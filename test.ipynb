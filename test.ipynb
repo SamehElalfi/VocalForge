{
 "cells": [
  {
   "cell_type": "code",
   "execution_count": 4,
   "metadata": {},
   "outputs": [
    {
     "name": "stdout",
     "output_type": "stream",
     "text": [
      "Requirement already satisfied: pyannote.audio in /home/rio/anaconda3/envs/VocalForge/lib/python3.8/site-packages (2.1.1)\n",
      "Requirement already satisfied: soundfile<0.11,>=0.10.2 in /home/rio/anaconda3/envs/VocalForge/lib/python3.8/site-packages (from pyannote.audio) (0.10.3.post1)\n",
      "Requirement already satisfied: omegaconf<3.0,>=2.1 in /home/rio/anaconda3/envs/VocalForge/lib/python3.8/site-packages (from pyannote.audio) (2.3.0)\n",
      "Requirement already satisfied: pytorch-lightning<1.7,>=1.5.4 in /home/rio/anaconda3/envs/VocalForge/lib/python3.8/site-packages (from pyannote.audio) (1.6.3)\n",
      "Requirement already satisfied: backports.cached-property in /home/rio/anaconda3/envs/VocalForge/lib/python3.8/site-packages (from pyannote.audio) (1.0.2)\n",
      "Requirement already satisfied: typing-extensions in /home/rio/anaconda3/envs/VocalForge/lib/python3.8/site-packages (from pyannote.audio) (4.4.0)\n",
      "Requirement already satisfied: speechbrain<0.6,>=0.5.12 in /home/rio/anaconda3/envs/VocalForge/lib/python3.8/site-packages (from pyannote.audio) (0.5.14)\n",
      "Requirement already satisfied: torch>=1.9 in /home/rio/anaconda3/envs/VocalForge/lib/python3.8/site-packages (from pyannote.audio) (1.11.0)\n",
      "Requirement already satisfied: torch-audiomentations>=0.11.0 in /home/rio/anaconda3/envs/VocalForge/lib/python3.8/site-packages (from pyannote.audio) (0.11.0)\n",
      "Requirement already satisfied: huggingface-hub>=0.8.1 in /home/rio/anaconda3/envs/VocalForge/lib/python3.8/site-packages (from pyannote.audio) (0.13.3)\n",
      "Requirement already satisfied: pytorch-metric-learning<2.0,>=1.0.0 in /home/rio/anaconda3/envs/VocalForge/lib/python3.8/site-packages (from pyannote.audio) (1.7.3)\n",
      "Requirement already satisfied: pyannote.pipeline<3.0,>=2.3 in /home/rio/anaconda3/envs/VocalForge/lib/python3.8/site-packages (from pyannote.audio) (2.3)\n",
      "Requirement already satisfied: asteroid-filterbanks<0.5,>=0.4 in /home/rio/anaconda3/envs/VocalForge/lib/python3.8/site-packages (from pyannote.audio) (0.4.0)\n",
      "Requirement already satisfied: semver<3.0,>=2.10.2 in /home/rio/anaconda3/envs/VocalForge/lib/python3.8/site-packages (from pyannote.audio) (2.13.0)\n",
      "Collecting pyannote.database<5.0,>=4.1.1\n",
      "  Using cached pyannote.database-4.1.3-py3-none-any.whl (41 kB)\n",
      "Requirement already satisfied: pyannote.core<5.0,>=4.4 in /home/rio/anaconda3/envs/VocalForge/lib/python3.8/site-packages (from pyannote.audio) (4.5)\n",
      "Requirement already satisfied: einops<0.4.0,>=0.3 in /home/rio/anaconda3/envs/VocalForge/lib/python3.8/site-packages (from pyannote.audio) (0.3.2)\n",
      "Requirement already satisfied: torchaudio<1.0,>=0.10 in /home/rio/anaconda3/envs/VocalForge/lib/python3.8/site-packages (from pyannote.audio) (0.11.0)\n",
      "Requirement already satisfied: hmmlearn<0.3,>=0.2.7 in /home/rio/anaconda3/envs/VocalForge/lib/python3.8/site-packages (from pyannote.audio) (0.2.8)\n",
      "Requirement already satisfied: pyannote.metrics<4.0,>=3.2 in /home/rio/anaconda3/envs/VocalForge/lib/python3.8/site-packages (from pyannote.audio) (3.2.1)\n",
      "Requirement already satisfied: singledispatchmethod in /home/rio/anaconda3/envs/VocalForge/lib/python3.8/site-packages (from pyannote.audio) (1.0)\n",
      "Requirement already satisfied: networkx<3.0,>=2.6 in /home/rio/anaconda3/envs/VocalForge/lib/python3.8/site-packages (from pyannote.audio) (2.8.8)\n",
      "Requirement already satisfied: torchmetrics<1.0,>=0.6 in /home/rio/anaconda3/envs/VocalForge/lib/python3.8/site-packages (from pyannote.audio) (0.11.4)\n",
      "Requirement already satisfied: numpy in /home/rio/anaconda3/envs/VocalForge/lib/python3.8/site-packages (from asteroid-filterbanks<0.5,>=0.4->pyannote.audio) (1.23.5)\n",
      "Requirement already satisfied: scipy>=0.19 in /home/rio/anaconda3/envs/VocalForge/lib/python3.8/site-packages (from hmmlearn<0.3,>=0.2.7->pyannote.audio) (1.10.0)\n",
      "Requirement already satisfied: scikit-learn>=0.16 in /home/rio/anaconda3/envs/VocalForge/lib/python3.8/site-packages (from hmmlearn<0.3,>=0.2.7->pyannote.audio) (1.2.2)\n",
      "Requirement already satisfied: requests in /home/rio/anaconda3/envs/VocalForge/lib/python3.8/site-packages (from huggingface-hub>=0.8.1->pyannote.audio) (2.28.2)\n",
      "Requirement already satisfied: pyyaml>=5.1 in /home/rio/anaconda3/envs/VocalForge/lib/python3.8/site-packages (from huggingface-hub>=0.8.1->pyannote.audio) (6.0)\n",
      "Requirement already satisfied: tqdm>=4.42.1 in /home/rio/anaconda3/envs/VocalForge/lib/python3.8/site-packages (from huggingface-hub>=0.8.1->pyannote.audio) (4.64.1)\n",
      "Requirement already satisfied: packaging>=20.9 in /home/rio/anaconda3/envs/VocalForge/lib/python3.8/site-packages (from huggingface-hub>=0.8.1->pyannote.audio) (23.1)\n",
      "Requirement already satisfied: filelock in /home/rio/anaconda3/envs/VocalForge/lib/python3.8/site-packages (from huggingface-hub>=0.8.1->pyannote.audio) (3.10.6)\n",
      "Requirement already satisfied: antlr4-python3-runtime==4.9.* in /home/rio/anaconda3/envs/VocalForge/lib/python3.8/site-packages (from omegaconf<3.0,>=2.1->pyannote.audio) (4.9.3)\n",
      "Requirement already satisfied: sortedcontainers>=2.0.4 in /home/rio/anaconda3/envs/VocalForge/lib/python3.8/site-packages (from pyannote.core<5.0,>=4.4->pyannote.audio) (2.4.0)\n",
      "Requirement already satisfied: simplejson>=3.8.1 in /home/rio/anaconda3/envs/VocalForge/lib/python3.8/site-packages (from pyannote.core<5.0,>=4.4->pyannote.audio) (3.18.4)\n",
      "Requirement already satisfied: pandas>=0.19 in /home/rio/anaconda3/envs/VocalForge/lib/python3.8/site-packages (from pyannote.database<5.0,>=4.1.1->pyannote.audio) (1.5.3)\n",
      "Requirement already satisfied: typer[all]>=0.2.1 in /home/rio/anaconda3/envs/VocalForge/lib/python3.8/site-packages (from pyannote.database<5.0,>=4.1.1->pyannote.audio) (0.7.0)\n",
      "Requirement already satisfied: matplotlib>=2.0.0 in /home/rio/anaconda3/envs/VocalForge/lib/python3.8/site-packages (from pyannote.metrics<4.0,>=3.2->pyannote.audio) (3.7.1)\n",
      "Requirement already satisfied: sympy>=1.1 in /home/rio/anaconda3/envs/VocalForge/lib/python3.8/site-packages (from pyannote.metrics<4.0,>=3.2->pyannote.audio) (1.11.1)\n",
      "Requirement already satisfied: tabulate>=0.7.7 in /home/rio/anaconda3/envs/VocalForge/lib/python3.8/site-packages (from pyannote.metrics<4.0,>=3.2->pyannote.audio) (0.9.0)\n",
      "Requirement already satisfied: docopt>=0.6.2 in /home/rio/anaconda3/envs/VocalForge/lib/python3.8/site-packages (from pyannote.metrics<4.0,>=3.2->pyannote.audio) (0.6.2)\n",
      "Requirement already satisfied: optuna>=1.4 in /home/rio/anaconda3/envs/VocalForge/lib/python3.8/site-packages (from pyannote.pipeline<3.0,>=2.3->pyannote.audio) (3.1.0)\n",
      "Requirement already satisfied: tensorboard>=2.2.0 in /home/rio/anaconda3/envs/VocalForge/lib/python3.8/site-packages (from pytorch-lightning<1.7,>=1.5.4->pyannote.audio) (2.12.0)\n",
      "Requirement already satisfied: pyDeprecate<0.4.0,>=0.3.1 in /home/rio/anaconda3/envs/VocalForge/lib/python3.8/site-packages (from pytorch-lightning<1.7,>=1.5.4->pyannote.audio) (0.3.2)\n",
      "Requirement already satisfied: fsspec[http]!=2021.06.0,>=2021.05.0 in /home/rio/anaconda3/envs/VocalForge/lib/python3.8/site-packages (from pytorch-lightning<1.7,>=1.5.4->pyannote.audio) (2023.3.0)\n",
      "Requirement already satisfied: cffi>=1.0 in /home/rio/anaconda3/envs/VocalForge/lib/python3.8/site-packages (from soundfile<0.11,>=0.10.2->pyannote.audio) (1.15.1)\n",
      "Requirement already satisfied: sentencepiece in /home/rio/anaconda3/envs/VocalForge/lib/python3.8/site-packages (from speechbrain<0.6,>=0.5.12->pyannote.audio) (0.1.97)\n",
      "Requirement already satisfied: hyperpyyaml in /home/rio/anaconda3/envs/VocalForge/lib/python3.8/site-packages (from speechbrain<0.6,>=0.5.12->pyannote.audio) (1.1.0)\n",
      "Requirement already satisfied: joblib in /home/rio/anaconda3/envs/VocalForge/lib/python3.8/site-packages (from speechbrain<0.6,>=0.5.12->pyannote.audio) (1.2.0)\n",
      "Requirement already satisfied: librosa>=0.6.0 in /home/rio/anaconda3/envs/VocalForge/lib/python3.8/site-packages (from torch-audiomentations>=0.11.0->pyannote.audio) (0.9.2)\n",
      "Requirement already satisfied: julius<0.3,>=0.2.3 in /home/rio/anaconda3/envs/VocalForge/lib/python3.8/site-packages (from torch-audiomentations>=0.11.0->pyannote.audio) (0.2.7)\n",
      "Requirement already satisfied: torch-pitch-shift>=1.2.2 in /home/rio/anaconda3/envs/VocalForge/lib/python3.8/site-packages (from torch-audiomentations>=0.11.0->pyannote.audio) (1.2.2)\n",
      "Requirement already satisfied: pycparser in /home/rio/anaconda3/envs/VocalForge/lib/python3.8/site-packages (from cffi>=1.0->soundfile<0.11,>=0.10.2->pyannote.audio) (2.21)\n",
      "Requirement already satisfied: aiohttp!=4.0.0a0,!=4.0.0a1 in /home/rio/anaconda3/envs/VocalForge/lib/python3.8/site-packages (from fsspec[http]!=2021.06.0,>=2021.05.0->pytorch-lightning<1.7,>=1.5.4->pyannote.audio) (3.8.4)\n",
      "Requirement already satisfied: resampy>=0.2.2 in /home/rio/anaconda3/envs/VocalForge/lib/python3.8/site-packages (from librosa>=0.6.0->torch-audiomentations>=0.11.0->pyannote.audio) (0.2.2)\n",
      "Requirement already satisfied: pooch>=1.0 in /home/rio/anaconda3/envs/VocalForge/lib/python3.8/site-packages (from librosa>=0.6.0->torch-audiomentations>=0.11.0->pyannote.audio) (1.7.0)\n",
      "Requirement already satisfied: audioread>=2.1.9 in /home/rio/anaconda3/envs/VocalForge/lib/python3.8/site-packages (from librosa>=0.6.0->torch-audiomentations>=0.11.0->pyannote.audio) (3.0.0)\n",
      "Requirement already satisfied: decorator>=4.0.10 in /home/rio/anaconda3/envs/VocalForge/lib/python3.8/site-packages (from librosa>=0.6.0->torch-audiomentations>=0.11.0->pyannote.audio) (5.1.1)\n",
      "Requirement already satisfied: numba>=0.45.1 in /home/rio/anaconda3/envs/VocalForge/lib/python3.8/site-packages (from librosa>=0.6.0->torch-audiomentations>=0.11.0->pyannote.audio) (0.56.4)\n",
      "Requirement already satisfied: fonttools>=4.22.0 in /home/rio/anaconda3/envs/VocalForge/lib/python3.8/site-packages (from matplotlib>=2.0.0->pyannote.metrics<4.0,>=3.2->pyannote.audio) (4.39.2)\n",
      "Requirement already satisfied: kiwisolver>=1.0.1 in /home/rio/anaconda3/envs/VocalForge/lib/python3.8/site-packages (from matplotlib>=2.0.0->pyannote.metrics<4.0,>=3.2->pyannote.audio) (1.4.4)\n",
      "Requirement already satisfied: contourpy>=1.0.1 in /home/rio/anaconda3/envs/VocalForge/lib/python3.8/site-packages (from matplotlib>=2.0.0->pyannote.metrics<4.0,>=3.2->pyannote.audio) (1.0.7)\n",
      "Requirement already satisfied: pillow>=6.2.0 in /home/rio/anaconda3/envs/VocalForge/lib/python3.8/site-packages (from matplotlib>=2.0.0->pyannote.metrics<4.0,>=3.2->pyannote.audio) (9.4.0)\n",
      "Requirement already satisfied: cycler>=0.10 in /home/rio/anaconda3/envs/VocalForge/lib/python3.8/site-packages (from matplotlib>=2.0.0->pyannote.metrics<4.0,>=3.2->pyannote.audio) (0.11.0)\n",
      "Requirement already satisfied: python-dateutil>=2.7 in /home/rio/anaconda3/envs/VocalForge/lib/python3.8/site-packages (from matplotlib>=2.0.0->pyannote.metrics<4.0,>=3.2->pyannote.audio) (2.8.2)\n",
      "Requirement already satisfied: importlib-resources>=3.2.0 in /home/rio/anaconda3/envs/VocalForge/lib/python3.8/site-packages (from matplotlib>=2.0.0->pyannote.metrics<4.0,>=3.2->pyannote.audio) (5.12.0)\n",
      "Requirement already satisfied: pyparsing>=2.3.1 in /home/rio/anaconda3/envs/VocalForge/lib/python3.8/site-packages (from matplotlib>=2.0.0->pyannote.metrics<4.0,>=3.2->pyannote.audio) (3.0.9)\n",
      "Requirement already satisfied: cmaes>=0.9.1 in /home/rio/anaconda3/envs/VocalForge/lib/python3.8/site-packages (from optuna>=1.4->pyannote.pipeline<3.0,>=2.3->pyannote.audio) (0.9.1)\n",
      "Requirement already satisfied: sqlalchemy>=1.3.0 in /home/rio/anaconda3/envs/VocalForge/lib/python3.8/site-packages (from optuna>=1.4->pyannote.pipeline<3.0,>=2.3->pyannote.audio) (2.0.7)\n",
      "Requirement already satisfied: alembic>=1.5.0 in /home/rio/anaconda3/envs/VocalForge/lib/python3.8/site-packages (from optuna>=1.4->pyannote.pipeline<3.0,>=2.3->pyannote.audio) (1.10.2)\n",
      "Requirement already satisfied: colorlog in /home/rio/anaconda3/envs/VocalForge/lib/python3.8/site-packages (from optuna>=1.4->pyannote.pipeline<3.0,>=2.3->pyannote.audio) (6.7.0)\n",
      "Requirement already satisfied: pytz>=2020.1 in /home/rio/anaconda3/envs/VocalForge/lib/python3.8/site-packages (from pandas>=0.19->pyannote.database<5.0,>=4.1.1->pyannote.audio) (2022.7.1)\n",
      "Requirement already satisfied: threadpoolctl>=2.0.0 in /home/rio/anaconda3/envs/VocalForge/lib/python3.8/site-packages (from scikit-learn>=0.16->hmmlearn<0.3,>=0.2.7->pyannote.audio) (3.1.0)\n",
      "Requirement already satisfied: mpmath>=0.19 in /home/rio/anaconda3/envs/VocalForge/lib/python3.8/site-packages (from sympy>=1.1->pyannote.metrics<4.0,>=3.2->pyannote.audio) (1.3.0)\n",
      "Requirement already satisfied: markdown>=2.6.8 in /home/rio/anaconda3/envs/VocalForge/lib/python3.8/site-packages (from tensorboard>=2.2.0->pytorch-lightning<1.7,>=1.5.4->pyannote.audio) (3.4.3)\n",
      "Requirement already satisfied: grpcio>=1.48.2 in /home/rio/anaconda3/envs/VocalForge/lib/python3.8/site-packages (from tensorboard>=2.2.0->pytorch-lightning<1.7,>=1.5.4->pyannote.audio) (1.51.3)\n",
      "Requirement already satisfied: google-auth<3,>=1.6.3 in /home/rio/anaconda3/envs/VocalForge/lib/python3.8/site-packages (from tensorboard>=2.2.0->pytorch-lightning<1.7,>=1.5.4->pyannote.audio) (2.16.3)\n",
      "Requirement already satisfied: absl-py>=0.4 in /home/rio/anaconda3/envs/VocalForge/lib/python3.8/site-packages (from tensorboard>=2.2.0->pytorch-lightning<1.7,>=1.5.4->pyannote.audio) (1.4.0)\n",
      "Requirement already satisfied: protobuf>=3.19.6 in /home/rio/anaconda3/envs/VocalForge/lib/python3.8/site-packages (from tensorboard>=2.2.0->pytorch-lightning<1.7,>=1.5.4->pyannote.audio) (3.20.3)\n",
      "Requirement already satisfied: setuptools>=41.0.0 in /home/rio/anaconda3/envs/VocalForge/lib/python3.8/site-packages (from tensorboard>=2.2.0->pytorch-lightning<1.7,>=1.5.4->pyannote.audio) (59.5.0)\n",
      "Requirement already satisfied: tensorboard-data-server<0.8.0,>=0.7.0 in /home/rio/anaconda3/envs/VocalForge/lib/python3.8/site-packages (from tensorboard>=2.2.0->pytorch-lightning<1.7,>=1.5.4->pyannote.audio) (0.7.0)\n",
      "Requirement already satisfied: tensorboard-plugin-wit>=1.6.0 in /home/rio/anaconda3/envs/VocalForge/lib/python3.8/site-packages (from tensorboard>=2.2.0->pytorch-lightning<1.7,>=1.5.4->pyannote.audio) (1.8.1)\n",
      "Requirement already satisfied: werkzeug>=1.0.1 in /home/rio/anaconda3/envs/VocalForge/lib/python3.8/site-packages (from tensorboard>=2.2.0->pytorch-lightning<1.7,>=1.5.4->pyannote.audio) (2.2.3)\n",
      "Requirement already satisfied: google-auth-oauthlib<0.5,>=0.4.1 in /home/rio/anaconda3/envs/VocalForge/lib/python3.8/site-packages (from tensorboard>=2.2.0->pytorch-lightning<1.7,>=1.5.4->pyannote.audio) (0.4.6)\n",
      "Requirement already satisfied: wheel>=0.26 in /home/rio/anaconda3/envs/VocalForge/lib/python3.8/site-packages (from tensorboard>=2.2.0->pytorch-lightning<1.7,>=1.5.4->pyannote.audio) (0.38.4)\n",
      "Requirement already satisfied: urllib3<1.27,>=1.21.1 in /home/rio/anaconda3/envs/VocalForge/lib/python3.8/site-packages (from requests->huggingface-hub>=0.8.1->pyannote.audio) (1.26.14)\n",
      "Requirement already satisfied: idna<4,>=2.5 in /home/rio/anaconda3/envs/VocalForge/lib/python3.8/site-packages (from requests->huggingface-hub>=0.8.1->pyannote.audio) (3.4)\n",
      "Requirement already satisfied: certifi>=2017.4.17 in /home/rio/anaconda3/envs/VocalForge/lib/python3.8/site-packages (from requests->huggingface-hub>=0.8.1->pyannote.audio) (2023.5.7)\n",
      "Requirement already satisfied: charset-normalizer<4,>=2 in /home/rio/anaconda3/envs/VocalForge/lib/python3.8/site-packages (from requests->huggingface-hub>=0.8.1->pyannote.audio) (2.0.4)\n",
      "Requirement already satisfied: primePy>=1.3 in /home/rio/anaconda3/envs/VocalForge/lib/python3.8/site-packages (from torch-pitch-shift>=1.2.2->torch-audiomentations>=0.11.0->pyannote.audio) (1.3)\n",
      "Requirement already satisfied: click<9.0.0,>=7.1.1 in /home/rio/anaconda3/envs/VocalForge/lib/python3.8/site-packages (from typer[all]>=0.2.1->pyannote.database<5.0,>=4.1.1->pyannote.audio) (8.1.3)\n",
      "Requirement already satisfied: rich<13.0.0,>=10.11.0 in /home/rio/anaconda3/envs/VocalForge/lib/python3.8/site-packages (from typer[all]>=0.2.1->pyannote.database<5.0,>=4.1.1->pyannote.audio) (12.6.0)\n",
      "Requirement already satisfied: shellingham<2.0.0,>=1.3.0 in /home/rio/anaconda3/envs/VocalForge/lib/python3.8/site-packages (from typer[all]>=0.2.1->pyannote.database<5.0,>=4.1.1->pyannote.audio) (1.5.0.post1)\n",
      "Requirement already satisfied: colorama<0.5.0,>=0.4.3 in /home/rio/anaconda3/envs/VocalForge/lib/python3.8/site-packages (from typer[all]>=0.2.1->pyannote.database<5.0,>=4.1.1->pyannote.audio) (0.4.6)\n",
      "Requirement already satisfied: ruamel.yaml>=0.17.8 in /home/rio/anaconda3/envs/VocalForge/lib/python3.8/site-packages (from hyperpyyaml->speechbrain<0.6,>=0.5.12->pyannote.audio) (0.17.21)\n",
      "Requirement already satisfied: async-timeout<5.0,>=4.0.0a3 in /home/rio/anaconda3/envs/VocalForge/lib/python3.8/site-packages (from aiohttp!=4.0.0a0,!=4.0.0a1->fsspec[http]!=2021.06.0,>=2021.05.0->pytorch-lightning<1.7,>=1.5.4->pyannote.audio) (4.0.2)\n",
      "Requirement already satisfied: attrs>=17.3.0 in /home/rio/anaconda3/envs/VocalForge/lib/python3.8/site-packages (from aiohttp!=4.0.0a0,!=4.0.0a1->fsspec[http]!=2021.06.0,>=2021.05.0->pytorch-lightning<1.7,>=1.5.4->pyannote.audio) (22.2.0)\n",
      "Requirement already satisfied: aiosignal>=1.1.2 in /home/rio/anaconda3/envs/VocalForge/lib/python3.8/site-packages (from aiohttp!=4.0.0a0,!=4.0.0a1->fsspec[http]!=2021.06.0,>=2021.05.0->pytorch-lightning<1.7,>=1.5.4->pyannote.audio) (1.3.1)\n",
      "Requirement already satisfied: yarl<2.0,>=1.0 in /home/rio/anaconda3/envs/VocalForge/lib/python3.8/site-packages (from aiohttp!=4.0.0a0,!=4.0.0a1->fsspec[http]!=2021.06.0,>=2021.05.0->pytorch-lightning<1.7,>=1.5.4->pyannote.audio) (1.8.2)\n",
      "Requirement already satisfied: frozenlist>=1.1.1 in /home/rio/anaconda3/envs/VocalForge/lib/python3.8/site-packages (from aiohttp!=4.0.0a0,!=4.0.0a1->fsspec[http]!=2021.06.0,>=2021.05.0->pytorch-lightning<1.7,>=1.5.4->pyannote.audio) (1.3.3)\n",
      "Requirement already satisfied: multidict<7.0,>=4.5 in /home/rio/anaconda3/envs/VocalForge/lib/python3.8/site-packages (from aiohttp!=4.0.0a0,!=4.0.0a1->fsspec[http]!=2021.06.0,>=2021.05.0->pytorch-lightning<1.7,>=1.5.4->pyannote.audio) (6.0.4)\n",
      "Requirement already satisfied: importlib-metadata in /home/rio/anaconda3/envs/VocalForge/lib/python3.8/site-packages (from alembic>=1.5.0->optuna>=1.4->pyannote.pipeline<3.0,>=2.3->pyannote.audio) (6.1.0)\n",
      "Requirement already satisfied: Mako in /home/rio/anaconda3/envs/VocalForge/lib/python3.8/site-packages (from alembic>=1.5.0->optuna>=1.4->pyannote.pipeline<3.0,>=2.3->pyannote.audio) (1.2.4)\n",
      "Requirement already satisfied: six>=1.9.0 in /home/rio/anaconda3/envs/VocalForge/lib/python3.8/site-packages (from google-auth<3,>=1.6.3->tensorboard>=2.2.0->pytorch-lightning<1.7,>=1.5.4->pyannote.audio) (1.16.0)\n",
      "Requirement already satisfied: cachetools<6.0,>=2.0.0 in /home/rio/anaconda3/envs/VocalForge/lib/python3.8/site-packages (from google-auth<3,>=1.6.3->tensorboard>=2.2.0->pytorch-lightning<1.7,>=1.5.4->pyannote.audio) (5.3.0)\n",
      "Requirement already satisfied: pyasn1-modules>=0.2.1 in /home/rio/anaconda3/envs/VocalForge/lib/python3.8/site-packages (from google-auth<3,>=1.6.3->tensorboard>=2.2.0->pytorch-lightning<1.7,>=1.5.4->pyannote.audio) (0.2.8)\n",
      "Requirement already satisfied: rsa<5,>=3.1.4 in /home/rio/anaconda3/envs/VocalForge/lib/python3.8/site-packages (from google-auth<3,>=1.6.3->tensorboard>=2.2.0->pytorch-lightning<1.7,>=1.5.4->pyannote.audio) (4.9)\n",
      "Requirement already satisfied: requests-oauthlib>=0.7.0 in /home/rio/anaconda3/envs/VocalForge/lib/python3.8/site-packages (from google-auth-oauthlib<0.5,>=0.4.1->tensorboard>=2.2.0->pytorch-lightning<1.7,>=1.5.4->pyannote.audio) (1.3.1)\n",
      "Requirement already satisfied: zipp>=3.1.0 in /home/rio/anaconda3/envs/VocalForge/lib/python3.8/site-packages (from importlib-resources>=3.2.0->matplotlib>=2.0.0->pyannote.metrics<4.0,>=3.2->pyannote.audio) (3.15.0)\n",
      "Requirement already satisfied: llvmlite<0.40,>=0.39.0dev0 in /home/rio/anaconda3/envs/VocalForge/lib/python3.8/site-packages (from numba>=0.45.1->librosa>=0.6.0->torch-audiomentations>=0.11.0->pyannote.audio) (0.39.1)\n",
      "Requirement already satisfied: platformdirs>=2.5.0 in /home/rio/anaconda3/envs/VocalForge/lib/python3.8/site-packages (from pooch>=1.0->librosa>=0.6.0->torch-audiomentations>=0.11.0->pyannote.audio) (3.2.0)\n",
      "Requirement already satisfied: commonmark<0.10.0,>=0.9.0 in /home/rio/anaconda3/envs/VocalForge/lib/python3.8/site-packages (from rich<13.0.0,>=10.11.0->typer[all]>=0.2.1->pyannote.database<5.0,>=4.1.1->pyannote.audio) (0.9.1)\n",
      "Requirement already satisfied: pygments<3.0.0,>=2.6.0 in /home/rio/anaconda3/envs/VocalForge/lib/python3.8/site-packages (from rich<13.0.0,>=10.11.0->typer[all]>=0.2.1->pyannote.database<5.0,>=4.1.1->pyannote.audio) (2.15.1)\n",
      "Requirement already satisfied: ruamel.yaml.clib>=0.2.6 in /home/rio/anaconda3/envs/VocalForge/lib/python3.8/site-packages (from ruamel.yaml>=0.17.8->hyperpyyaml->speechbrain<0.6,>=0.5.12->pyannote.audio) (0.2.7)\n",
      "Requirement already satisfied: greenlet!=0.4.17 in /home/rio/anaconda3/envs/VocalForge/lib/python3.8/site-packages (from sqlalchemy>=1.3.0->optuna>=1.4->pyannote.pipeline<3.0,>=2.3->pyannote.audio) (2.0.2)\n",
      "Requirement already satisfied: MarkupSafe>=2.1.1 in /home/rio/anaconda3/envs/VocalForge/lib/python3.8/site-packages (from werkzeug>=1.0.1->tensorboard>=2.2.0->pytorch-lightning<1.7,>=1.5.4->pyannote.audio) (2.1.2)\n",
      "Requirement already satisfied: pyasn1<0.5.0,>=0.4.6 in /home/rio/anaconda3/envs/VocalForge/lib/python3.8/site-packages (from pyasn1-modules>=0.2.1->google-auth<3,>=1.6.3->tensorboard>=2.2.0->pytorch-lightning<1.7,>=1.5.4->pyannote.audio) (0.4.8)\n",
      "Requirement already satisfied: oauthlib>=3.0.0 in /home/rio/anaconda3/envs/VocalForge/lib/python3.8/site-packages (from requests-oauthlib>=0.7.0->google-auth-oauthlib<0.5,>=0.4.1->tensorboard>=2.2.0->pytorch-lightning<1.7,>=1.5.4->pyannote.audio) (3.2.2)\n",
      "Installing collected packages: pyannote.database\n",
      "  Attempting uninstall: pyannote.database\n",
      "    Found existing installation: pyannote.database 5.0.1\n",
      "    Uninstalling pyannote.database-5.0.1:\n",
      "      Successfully uninstalled pyannote.database-5.0.1\n",
      "Successfully installed pyannote.database-4.1.3\n"
     ]
    }
   ],
   "source": [
    "!pip install pyannote.audio -U"
   ]
  },
  {
   "cell_type": "code",
   "execution_count": null,
   "metadata": {},
   "outputs": [],
   "source": []
  },
  {
   "cell_type": "code",
   "execution_count": 12,
   "metadata": {},
   "outputs": [
    {
     "name": "stdout",
     "output_type": "stream",
     "text": [
      "[youtube:tab] Extracting URL: https://www.youtube.com/playlist?list=PLAVNH_8nglubeTsgAORm3bMKcYn2PupGk\n",
      "[youtube:tab] PLAVNH_8nglubeTsgAORm3bMKcYn2PupGk: Downloading webpage\n",
      "[youtube:tab] PLAVNH_8nglubeTsgAORm3bMKcYn2PupGk: Redownloading playlist API JSON with unavailable videos\n",
      "[download] Downloading playlist: tupac\n",
      "[youtube:tab] Playlist tupac: Downloading 2 items of 2\n",
      "[download] Downloading item 1 of 2\n",
      "[youtube] Extracting URL: https://www.youtube.com/watch?v=v_XT9-C5Qu8\n",
      "[youtube] v_XT9-C5Qu8: Downloading webpage\n",
      "[youtube] v_XT9-C5Qu8: Downloading android player API JSON\n",
      "[info] v_XT9-C5Qu8: Downloading 1 format(s): 251\n",
      "[dashsegments] Total fragments: 3\n",
      "[download] Destination: /home/rio/Desktop/VocalForgeDev/VocalForge/example_files/TUPAC SHAKUR 1988 HIGH SCHOOL INTERVIEW.webm\n",
      "[download] 100% of   24.12MiB in 00:00:01 at 21.36MiB/s              \n",
      "[ExtractAudio] Destination: /home/rio/Desktop/VocalForgeDev/VocalForge/example_files/TUPAC SHAKUR 1988 HIGH SCHOOL INTERVIEW.wav\n",
      "Deleting original file /home/rio/Desktop/VocalForgeDev/VocalForge/example_files/TUPAC SHAKUR 1988 HIGH SCHOOL INTERVIEW.webm (pass -k to keep)\n",
      "[download] Downloading item 2 of 2\n",
      "[youtube] Extracting URL: https://www.youtube.com/watch?v=GpPbYGJRg0Q\n",
      "[youtube] GpPbYGJRg0Q: Downloading webpage\n",
      "[youtube] GpPbYGJRg0Q: Downloading android player API JSON\n",
      "[info] GpPbYGJRg0Q: Downloading 1 format(s): 251\n",
      "[dashsegments] Total fragments: 2\n",
      "[download] Destination: /home/rio/Desktop/VocalForgeDev/VocalForge/example_files/Tupac on Growing Up Poor, His Rise to Fame & His Future (1995) ｜ MTV News.webm\n",
      "[download] 100% of   14.23MiB in 00:00:00 at 19.25MiB/s              \n",
      "[ExtractAudio] Destination: /home/rio/Desktop/VocalForgeDev/VocalForge/example_files/Tupac on Growing Up Poor, His Rise to Fame & His Future (1995) ｜ MTV News.wav\n",
      "Deleting original file /home/rio/Desktop/VocalForgeDev/VocalForge/example_files/Tupac on Growing Up Poor, His Rise to Fame & His Future (1995) ｜ MTV News.webm (pass -k to keep)\n",
      "[download] Finished downloading playlist: tupac\n"
     ]
    }
   ],
   "source": [
    "from audio.audio_utils import download_videos\n",
    "\n",
    "download_videos(playlist_url='https://www.youtube.com/playlist?list=PLAVNH_8nglubeTsgAORm3bMKcYn2PupGk', out_dir='/home/rio/Desktop/VocalForgeDev/VocalForge/example_files')"
   ]
  },
  {
   "cell_type": "code",
   "execution_count": 1,
   "metadata": {},
   "outputs": [
    {
     "name": "stderr",
     "output_type": "stream",
     "text": [
      "/home/rio/anaconda3/envs/VocalForge/lib/python3.8/site-packages/tqdm/auto.py:22: TqdmWarning: IProgress not found. Please update jupyter and ipywidgets. See https://ipywidgets.readthedocs.io/en/stable/user_install.html\n",
      "  from .autonotebook import tqdm as notebook_tqdm\n"
     ]
    }
   ],
   "source": [
    "from audio.voice_detection import VoiceDetection\n",
    "\n",
    "vd = VoiceDetection(input_dir='/home/rio/Desktop/VocalForgeDev/VocalForge/example_files', output_dir='/home/rio/Desktop/VocalForgeDev/VocalForge/vd')"
   ]
  },
  {
   "cell_type": "code",
   "execution_count": 2,
   "metadata": {},
   "outputs": [
    {
     "name": "stdout",
     "output_type": "stream",
     "text": [
      "Analyzed files for voice detection\n"
     ]
    }
   ],
   "source": [
    "vd.run()"
   ]
  },
  {
   "cell_type": "code",
   "execution_count": 3,
   "metadata": {},
   "outputs": [
    {
     "name": "stdout",
     "output_type": "stream",
     "text": [
      "/home/rio/Desktop/VocalForgeDev/VocalForge/overlap\n"
     ]
    }
   ],
   "source": [
    "from audio.overlap import Overlap\n",
    "\n",
    "overlap = Overlap(input_dir='/home/rio/Desktop/VocalForgeDev/VocalForge/vd', output_dir='/home/rio/Desktop/VocalForgeDev/VocalForge/overlap')"
   ]
  },
  {
   "cell_type": "code",
   "execution_count": 2,
   "metadata": {},
   "outputs": [
    {
     "ename": "IndexError",
     "evalue": "list index out of range",
     "output_type": "error",
     "traceback": [
      "\u001b[0;31m---------------------------------------------------------------------------\u001b[0m",
      "\u001b[0;31mIndexError\u001b[0m                                Traceback (most recent call last)",
      "\u001b[1;32m/home/rio/Desktop/VocalForgeDev/VocalForge/test.ipynb Cell 8\u001b[0m in \u001b[0;36m<cell line: 1>\u001b[0;34m()\u001b[0m\n\u001b[0;32m----> <a href='vscode-notebook-cell:/home/rio/Desktop/VocalForgeDev/VocalForge/test.ipynb#X22sZmlsZQ%3D%3D?line=0'>1</a>\u001b[0m overlap\u001b[39m.\u001b[39;49mTimelines[\u001b[39m1\u001b[39;49m]\n",
      "\u001b[0;31mIndexError\u001b[0m: list index out of range"
     ]
    }
   ],
   "source": [
    "overlap.Timelines[1]"
   ]
  },
  {
   "cell_type": "code",
   "execution_count": 4,
   "metadata": {},
   "outputs": [
    {
     "name": "stdout",
     "output_type": "stream",
     "text": [
      "Found timestamps\n",
      "DATA0.wav\n",
      "/home/rio/Desktop/VocalForgeDev/VocalForge/overlap/DATA0.wav\n",
      "DATA1.wav\n",
      "/home/rio/Desktop/VocalForgeDev/VocalForge/overlap/DATA1.wav\n",
      "Analyzed files for voice detection\n"
     ]
    }
   ],
   "source": [
    "overlap.run()"
   ]
  },
  {
   "cell_type": "code",
   "execution_count": 2,
   "metadata": {},
   "outputs": [
    {
     "name": "stderr",
     "output_type": "stream",
     "text": [
      "/home/rio/anaconda3/envs/VocalForge/lib/python3.8/site-packages/tqdm/auto.py:22: TqdmWarning: IProgress not found. Please update jupyter and ipywidgets. See https://ipywidgets.readthedocs.io/en/stable/user_install.html\n",
      "  from .autonotebook import tqdm as notebook_tqdm\n"
     ]
    }
   ],
   "source": [
    "from audio.isolate import Isolate\n",
    "isolate = Isolate(input_dir='/home/rio/Desktop/VocalForgeDev/VocalForge/overlap', verification_dir='/home/rio/Desktop/VocalForgeDev/VocalForge/verification', export_dir='/home/rio/Desktop/VocalForgeDev/VocalForge/isolated', speaker_id='/home/rio/Desktop/VocalForgeDev/VocalForge/verification/DATA0/SPEAKER_00.wav')"
   ]
  },
  {
   "cell_type": "code",
   "execution_count": 3,
   "metadata": {},
   "outputs": [
    {
     "name": "stdout",
     "output_type": "stream",
     "text": [
      "Speaker(s) have already been split! Skipping...\n"
     ]
    }
   ],
   "source": [
    "isolate.run_seperate_speakers()"
   ]
  },
  {
   "cell_type": "code",
   "execution_count": 2,
   "metadata": {},
   "outputs": [
    {
     "name": "stdout",
     "output_type": "stream",
     "text": [
      "<class 'str'>\n"
     ]
    }
   ],
   "source": [
    "print(type(isolate.Speaker_Id))"
   ]
  },
  {
   "cell_type": "code",
   "execution_count": 5,
   "metadata": {},
   "outputs": [
    {
     "name": "stdout",
     "output_type": "stream",
     "text": [
      "Verification Threshold: 0.9\n",
      "Verification Threshold: 0.85\n",
      "Verification Threshold: 0.7999999999999999\n",
      "Verification Threshold: 0.7499999999999999\n",
      "Verification Threshold: 0.6999999999999998\n",
      "Verification Threshold: 0.6499999999999998\n",
      "Verification Threshold: 0.5999999999999998\n",
      "Verification Threshold: 0.5499999999999997\n"
     ]
    }
   ],
   "source": [
    "isolate.run_verification()"
   ]
  },
  {
   "cell_type": "code",
   "execution_count": 1,
   "metadata": {},
   "outputs": [
    {
     "name": "stderr",
     "output_type": "stream",
     "text": [
      "/home/rio/anaconda3/envs/VocalForge/lib/python3.8/site-packages/tqdm/auto.py:22: TqdmWarning: IProgress not found. Please update jupyter and ipywidgets. See https://ipywidgets.readthedocs.io/en/stable/user_install.html\n",
      "  from .autonotebook import tqdm as notebook_tqdm\n"
     ]
    }
   ],
   "source": [
    "from audio.export_audio import ExportAudio\n",
    "\n",
    "export = ExportAudio(input_dir='/home/rio/Desktop/VocalForgeDev/VocalForge/isolated', export_dir='/home/rio/Desktop/VocalForgeDev/VocalForge/exported', noise_removed_dir='/home/rio/Desktop/VocalForgeDev/VocalForge/noise_removed', normalization_dir='/home/rio/Desktop/VocalForgeDev/VocalForge/normalized')"
   ]
  },
  {
   "cell_type": "code",
   "execution_count": 2,
   "metadata": {},
   "outputs": [
    {
     "name": "stdout",
     "output_type": "stream",
     "text": [
      "Removing Noise...\n",
      "\u001b[32m2023-05-30 23:10:02\u001b[0m | \u001b[1mINFO    \u001b[0m | \u001b[36mDF\u001b[0m | \u001b[1mRunning on torch 1.11.0\u001b[0m\n",
      "\u001b[32m2023-05-30 23:10:02\u001b[0m | \u001b[1mINFO    \u001b[0m | \u001b[36mDF\u001b[0m | \u001b[1mRunning on host pop-os\u001b[0m\n",
      "\u001b[32m2023-05-30 23:10:02\u001b[0m | \u001b[1mINFO    \u001b[0m | \u001b[36mDF\u001b[0m | \u001b[1mLoading model settings of DeepFilterNet2\u001b[0m\n",
      "\u001b[32m2023-05-30 23:10:02\u001b[0m | \u001b[1mINFO    \u001b[0m | \u001b[36mDF\u001b[0m | \u001b[1mUsing DeepFilterNet2 model at /home/rio/.cache/DeepFilterNet/DeepFilterNet2\u001b[0m\n",
      "\u001b[32m2023-05-30 23:10:02\u001b[0m | \u001b[1mINFO    \u001b[0m | \u001b[36mDF\u001b[0m | \u001b[1mInitializing model `deepfilternet2`\u001b[0m\n"
     ]
    },
    {
     "name": "stderr",
     "output_type": "stream",
     "text": [
      "fatal: not a git repository (or any of the parent directories): .git\n"
     ]
    },
    {
     "name": "stdout",
     "output_type": "stream",
     "text": [
      "\u001b[32m2023-05-30 23:10:04\u001b[0m | \u001b[1mINFO    \u001b[0m | \u001b[36mDF\u001b[0m | \u001b[1mFound checkpoint /home/rio/.cache/DeepFilterNet/DeepFilterNet2/checkpoints/model_96.ckpt.best with epoch 96\u001b[0m\n",
      "\u001b[32m2023-05-30 23:10:04\u001b[0m | \u001b[1mINFO    \u001b[0m | \u001b[36mDF\u001b[0m | \u001b[1mRunning on device cuda:0\u001b[0m\n",
      "\u001b[32m2023-05-30 23:10:04\u001b[0m | \u001b[1mINFO    \u001b[0m | \u001b[36mDF\u001b[0m | \u001b[1mModel loaded\u001b[0m\n"
     ]
    },
    {
     "name": "stderr",
     "output_type": "stream",
     "text": [
      "\u001b[32m2023-05-30 23:10:04\u001b[0m | \u001b[33m\u001b[1mWARNING \u001b[0m | \u001b[36mDF\u001b[0m | \u001b[33m\u001b[1mAudio sampling rate does not match model sampling rate (22050, 48000). Resampling...\u001b[0m\n"
     ]
    }
   ],
   "source": [
    "export.run()"
   ]
  }
 ],
 "metadata": {
  "kernelspec": {
   "display_name": "VocalForge",
   "language": "python",
   "name": "python3"
  },
  "language_info": {
   "codemirror_mode": {
    "name": "ipython",
    "version": 3
   },
   "file_extension": ".py",
   "mimetype": "text/x-python",
   "name": "python",
   "nbconvert_exporter": "python",
   "pygments_lexer": "ipython3",
   "version": "3.8.16"
  },
  "orig_nbformat": 4
 },
 "nbformat": 4,
 "nbformat_minor": 2
}
