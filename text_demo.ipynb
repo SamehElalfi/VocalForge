{
 "cells": [
  {
   "attachments": {},
   "cell_type": "markdown",
   "metadata": {},
   "source": [
    "# Formatting refined audio\n",
    "\n",
    "In this tutorial, you will learn how to apply `VocalForge.text` pipelines on audio files either manually processed or through through `VocalForge.audio`.\n",
    "\n",
    "Each step is a step toward converting plain audio file(s) into a standardized format that is perfect for TTS training, speaker identification, or content Analysis (and more). These can be used independently of eachother, so if theres a step that isn't useful to you, feel free to simply skip it. This demo is just showing all capabilities of VocalForge. The final output of this dataset follows the same format to [LJSpeech](https://keithito.com/LJ-Speech-Dataset/) but the class can be pretty easily modified to export another format.\n",
    "\n",
    "The pipelines are as follows:\n",
    "\n",
    "- `Transcribe` Using OpenAI's Whisper, it goes through each file and, well, transcribes them into a text document. Pretty self explicatory. \n",
    "\n",
    "- `NormalizeText` Taking the raw text from Whisper, NormalizeText will output three text files, along with a copied version of the input audio file. The three text files split the text into utterances, such as sentences or exclamations. Each file will vary in terms of text normalization in order to expand compatibility with any range of preprocessors.\n",
    "\n",
    "- `Segment` generates timestamps (and confidence levels) for each utterence generated from `NormalizeText` that matches to segments of the audio file.\n",
    "\n",
    "- `SplitAudio` is also very straightforward. It splits the audio file based on timestamps, assuming the segment reaches a certain confidence level (alongwith offsets and padding, but we will get to that)\n",
    "\n",
    "- `Export` combines the text generated from `NormalizeText` and the audio files from `SplitAudio` in a nice little folder, alongwith a metadata file.\n",
    "\n",
    "More pipelines are coming soon™\n",
    "\n",
    "NOTE: It is highly reccomended to run this on a conda enviroment if running locally by running the command\n",
    "`conda create -n VocalForge python=3.8 pytorch=1.11.0 torchvision=0.12.0 torchaudio=0.11.0 cudatoolkit=11.3.1 -c pytorch`"
   ]
  },
  {
   "attachments": {},
   "cell_type": "markdown",
   "metadata": {},
   "source": [
    "### Getting Started"
   ]
  },
  {
   "attachments": {},
   "cell_type": "markdown",
   "metadata": {},
   "source": [
    "First, let's get to creating our work directory and installing `VocalForge`'s text features"
   ]
  },
  {
   "cell_type": "code",
   "execution_count": 1,
   "metadata": {},
   "outputs": [
    {
     "name": "stdout",
     "output_type": "stream",
     "text": [
      "/home/rio/Desktop/VocalForgeDev/VocalForge\n"
     ]
    }
   ],
   "source": [
    "from pathlib import Path\n",
    "\n",
    "root_path = Path.cwd()\n",
    "print(root_path)\n",
    "\n",
    "work_text_path = root_path / 'work' / 'text'\n",
    "\n",
    "work_text_path.mkdir(parents=True, exist_ok=True)"
   ]
  },
  {
   "cell_type": "code",
   "execution_count": 17,
   "metadata": {},
   "outputs": [
    {
     "name": "stdout",
     "output_type": "stream",
     "text": [
      "Processing /home/rio/Desktop/VocalForgeDev/VocalForge\n",
      "  Installing build dependencies ... \u001b[?25ldone\n",
      "\u001b[?25h  Getting requirements to build wheel ... \u001b[?25ldone\n",
      "\u001b[?25h  Installing backend dependencies ... \u001b[?25ldone\n",
      "\u001b[?25h  Preparing metadata (pyproject.toml) ... \u001b[?25ldone\n",
      "\u001b[?25hRequirement already satisfied: joblib==1.2.0 in /home/rio/anaconda3/envs/VocalForge/lib/python3.8/site-packages (from VocalForge==0.1.1) (1.2.0)\n",
      "Requirement already satisfied: natsort==8.2.0 in /home/rio/anaconda3/envs/VocalForge/lib/python3.8/site-packages (from VocalForge==0.1.1) (8.2.0)\n",
      "Requirement already satisfied: numpy==1.23.2 in /home/rio/anaconda3/envs/VocalForge/lib/python3.8/site-packages (from VocalForge==0.1.1) (1.23.2)\n",
      "Requirement already satisfied: pydub in /home/rio/anaconda3/envs/VocalForge/lib/python3.8/site-packages (from VocalForge==0.1.1) (0.25.1)\n",
      "Requirement already satisfied: pandas==1.4.3 in /home/rio/anaconda3/envs/VocalForge/lib/python3.8/site-packages (from VocalForge==0.1.1) (1.4.3)\n",
      "Requirement already satisfied: regex==2022.10.31 in /home/rio/anaconda3/envs/VocalForge/lib/python3.8/site-packages (from VocalForge==0.1.1) (2022.10.31)\n",
      "Requirement already satisfied: scipy==1.10.1 in /home/rio/anaconda3/envs/VocalForge/lib/python3.8/site-packages (from VocalForge==0.1.1) (1.10.1)\n",
      "Requirement already satisfied: tqdm==4.64.1 in /home/rio/anaconda3/envs/VocalForge/lib/python3.8/site-packages (from VocalForge==0.1.1) (4.64.1)\n",
      "Requirement already satisfied: hydra-core in /home/rio/anaconda3/envs/VocalForge/lib/python3.8/site-packages (from VocalForge==0.1.1) (1.3.2)\n",
      "Requirement already satisfied: ctc-segmentation in /home/rio/anaconda3/envs/VocalForge/lib/python3.8/site-packages (from VocalForge==0.1.1) (1.7.4)\n",
      "Requirement already satisfied: nemo-toolkit[all]==1.18.1 in /home/rio/anaconda3/envs/VocalForge/lib/python3.8/site-packages (from VocalForge==0.1.1) (1.18.1)\n",
      "Requirement already satisfied: num2words==0.5.12 in /home/rio/anaconda3/envs/VocalForge/lib/python3.8/site-packages (from VocalForge==0.1.1) (0.5.12)\n",
      "Requirement already satisfied: openai-whisper in /home/rio/anaconda3/envs/VocalForge/lib/python3.8/site-packages (from VocalForge==0.1.1) (20230314)\n",
      "Requirement already satisfied: whisper in /home/rio/anaconda3/envs/VocalForge/lib/python3.8/site-packages (from VocalForge==0.1.1) (1.1.10)\n",
      "Requirement already satisfied: huggingface-hub in /home/rio/anaconda3/envs/VocalForge/lib/python3.8/site-packages (from nemo-toolkit[all]==1.18.1->VocalForge==0.1.1) (0.16.4)\n",
      "Requirement already satisfied: numba in /home/rio/anaconda3/envs/VocalForge/lib/python3.8/site-packages (from nemo-toolkit[all]==1.18.1->VocalForge==0.1.1) (0.57.1)\n",
      "Requirement already satisfied: onnx>=1.7.0 in /home/rio/anaconda3/envs/VocalForge/lib/python3.8/site-packages (from nemo-toolkit[all]==1.18.1->VocalForge==0.1.1) (1.14.1)\n",
      "Requirement already satisfied: python-dateutil in /home/rio/anaconda3/envs/VocalForge/lib/python3.8/site-packages (from nemo-toolkit[all]==1.18.1->VocalForge==0.1.1) (2.8.2)\n",
      "Requirement already satisfied: ruamel.yaml in /home/rio/anaconda3/envs/VocalForge/lib/python3.8/site-packages (from nemo-toolkit[all]==1.18.1->VocalForge==0.1.1) (0.17.28)\n",
      "Requirement already satisfied: scikit-learn in /home/rio/anaconda3/envs/VocalForge/lib/python3.8/site-packages (from nemo-toolkit[all]==1.18.1->VocalForge==0.1.1) (1.3.0)\n",
      "Requirement already satisfied: setuptools==65.5.1 in /home/rio/anaconda3/envs/VocalForge/lib/python3.8/site-packages (from nemo-toolkit[all]==1.18.1->VocalForge==0.1.1) (65.5.1)\n",
      "Requirement already satisfied: tensorboard in /home/rio/anaconda3/envs/VocalForge/lib/python3.8/site-packages (from nemo-toolkit[all]==1.18.1->VocalForge==0.1.1) (2.14.0)\n",
      "Requirement already satisfied: text-unidecode in /home/rio/anaconda3/envs/VocalForge/lib/python3.8/site-packages (from nemo-toolkit[all]==1.18.1->VocalForge==0.1.1) (1.3)\n",
      "Requirement already satisfied: torch in /home/rio/anaconda3/envs/VocalForge/lib/python3.8/site-packages (from nemo-toolkit[all]==1.18.1->VocalForge==0.1.1) (2.0.1)\n",
      "Requirement already satisfied: wget in /home/rio/anaconda3/envs/VocalForge/lib/python3.8/site-packages (from nemo-toolkit[all]==1.18.1->VocalForge==0.1.1) (3.2)\n",
      "Requirement already satisfied: wrapt in /home/rio/anaconda3/envs/VocalForge/lib/python3.8/site-packages (from nemo-toolkit[all]==1.18.1->VocalForge==0.1.1) (1.15.0)\n",
      "Collecting black==19.10b0 (from nemo-toolkit[all]==1.18.1->VocalForge==0.1.1)\n",
      "  Using cached black-19.10b0-py36-none-any.whl (97 kB)\n",
      "Collecting click==8.0.2 (from nemo-toolkit[all]==1.18.1->VocalForge==0.1.1)\n",
      "  Using cached click-8.0.2-py3-none-any.whl (97 kB)\n",
      "Collecting isort<6.0.0,>5.1.0 (from nemo-toolkit[all]==1.18.1->VocalForge==0.1.1)\n",
      "  Using cached isort-5.12.0-py3-none-any.whl (91 kB)\n",
      "Collecting parameterized (from nemo-toolkit[all]==1.18.1->VocalForge==0.1.1)\n",
      "  Using cached parameterized-0.9.0-py2.py3-none-any.whl (20 kB)\n",
      "Collecting pytest (from nemo-toolkit[all]==1.18.1->VocalForge==0.1.1)\n",
      "  Obtaining dependency information for pytest from https://files.pythonhosted.org/packages/33/b2/741130cbcf2bbfa852ed95a60dc311c9e232c7ed25bac3d9b8880a8df4ae/pytest-7.4.0-py3-none-any.whl.metadata\n",
      "  Using cached pytest-7.4.0-py3-none-any.whl.metadata (8.0 kB)\n",
      "Collecting pytest-runner (from nemo-toolkit[all]==1.18.1->VocalForge==0.1.1)\n",
      "  Using cached pytest_runner-6.0.0-py3-none-any.whl (7.2 kB)\n",
      "Collecting sphinx (from nemo-toolkit[all]==1.18.1->VocalForge==0.1.1)\n",
      "  Obtaining dependency information for sphinx from https://files.pythonhosted.org/packages/48/17/325cf6a257d84751a48ae90752b3d8fe0be8f9535b6253add61c49d0d9bc/sphinx-7.1.2-py3-none-any.whl.metadata\n",
      "  Using cached sphinx-7.1.2-py3-none-any.whl.metadata (5.8 kB)\n",
      "Collecting sphinxcontrib-bibtex (from nemo-toolkit[all]==1.18.1->VocalForge==0.1.1)\n",
      "  Obtaining dependency information for sphinxcontrib-bibtex from https://files.pythonhosted.org/packages/87/3f/042204b7ba4668822f038c72dffc95472088fe1a45470f24bdc509482d78/sphinxcontrib_bibtex-2.6.0-py3-none-any.whl.metadata\n",
      "  Using cached sphinxcontrib_bibtex-2.6.0-py3-none-any.whl.metadata (6.1 kB)\n",
      "Collecting wandb (from nemo-toolkit[all]==1.18.1->VocalForge==0.1.1)\n",
      "  Obtaining dependency information for wandb from https://files.pythonhosted.org/packages/ed/d7/8927aef63869d5d379adb63dc97f9cbc53830fdf85457b84a156fabcb231/wandb-0.15.8-py3-none-any.whl.metadata\n",
      "  Using cached wandb-0.15.8-py3-none-any.whl.metadata (8.3 kB)\n",
      "Collecting hydra-core (from VocalForge==0.1.1)\n",
      "  Using cached hydra_core-1.2.0-py3-none-any.whl (151 kB)\n",
      "Collecting omegaconf<2.3,>=2.2 (from nemo-toolkit[all]==1.18.1->VocalForge==0.1.1)\n",
      "  Using cached omegaconf-2.2.3-py3-none-any.whl (79 kB)\n",
      "Collecting pytorch-lightning<=1.9.4,>=1.9.0 (from nemo-toolkit[all]==1.18.1->VocalForge==0.1.1)\n",
      "  Using cached pytorch_lightning-1.9.4-py3-none-any.whl (827 kB)\n",
      "Collecting pyyaml<6 (from nemo-toolkit[all]==1.18.1->VocalForge==0.1.1)\n",
      "  Using cached PyYAML-5.4.1-cp38-cp38-manylinux1_x86_64.whl (662 kB)\n",
      "Requirement already satisfied: torchmetrics>=0.11.0 in /home/rio/anaconda3/envs/VocalForge/lib/python3.8/site-packages (from nemo-toolkit[all]==1.18.1->VocalForge==0.1.1) (1.1.0)\n",
      "Requirement already satisfied: transformers>=4.0.1 in /home/rio/anaconda3/envs/VocalForge/lib/python3.8/site-packages (from nemo-toolkit[all]==1.18.1->VocalForge==0.1.1) (4.32.0)\n",
      "Collecting webdataset<=0.1.62,>=0.1.48 (from nemo-toolkit[all]==1.18.1->VocalForge==0.1.1)\n",
      "  Using cached webdataset-0.1.62-py3-none-any.whl (32 kB)\n",
      "Collecting sacremoses>=0.0.43 (from nemo-toolkit[all]==1.18.1->VocalForge==0.1.1)\n",
      "  Using cached sacremoses-0.0.53-py3-none-any.whl\n",
      "Requirement already satisfied: sentencepiece<1.0.0 in /home/rio/anaconda3/envs/VocalForge/lib/python3.8/site-packages (from nemo-toolkit[all]==1.18.1->VocalForge==0.1.1) (0.1.99)\n",
      "Collecting youtokentome>=1.0.5 (from nemo-toolkit[all]==1.18.1->VocalForge==0.1.1)\n",
      "  Using cached youtokentome-1.0.6-cp38-cp38-manylinux2010_x86_64.whl (1.7 MB)\n",
      "Collecting braceexpand (from nemo-toolkit[all]==1.18.1->VocalForge==0.1.1)\n",
      "  Using cached braceexpand-0.1.7-py2.py3-none-any.whl (5.9 kB)\n",
      "Collecting editdistance (from nemo-toolkit[all]==1.18.1->VocalForge==0.1.1)\n",
      "  Using cached editdistance-0.6.2-cp38-cp38-manylinux_2_17_x86_64.manylinux2014_x86_64.whl (283 kB)\n",
      "Collecting g2p-en (from nemo-toolkit[all]==1.18.1->VocalForge==0.1.1)\n",
      "  Using cached g2p_en-2.1.0-py3-none-any.whl (3.1 MB)\n",
      "Collecting inflect (from nemo-toolkit[all]==1.18.1->VocalForge==0.1.1)\n",
      "  Obtaining dependency information for inflect from https://files.pythonhosted.org/packages/fb/c6/d9feb758be584f729424390af24687d3a4363d968164f94079f83cd536b4/inflect-7.0.0-py3-none-any.whl.metadata\n",
      "  Using cached inflect-7.0.0-py3-none-any.whl.metadata (21 kB)\n",
      "Collecting ipywidgets (from nemo-toolkit[all]==1.18.1->VocalForge==0.1.1)\n",
      "  Obtaining dependency information for ipywidgets from https://files.pythonhosted.org/packages/b8/d4/ce436660098b2f456e2b8fdf76d4f33cbc3766c874c4aa2f772c7a5e943f/ipywidgets-8.1.0-py3-none-any.whl.metadata\n",
      "  Using cached ipywidgets-8.1.0-py3-none-any.whl.metadata (2.4 kB)\n",
      "Collecting jiwer (from nemo-toolkit[all]==1.18.1->VocalForge==0.1.1)\n",
      "  Obtaining dependency information for jiwer from https://files.pythonhosted.org/packages/23/a3/92c29a5e422acd87e3b4f2e6dc0ce877070cc9b2f81d30fe84122032338a/jiwer-3.0.2-py3-none-any.whl.metadata\n",
      "  Using cached jiwer-3.0.2-py3-none-any.whl.metadata (2.6 kB)\n",
      "Collecting kaldi-python-io (from nemo-toolkit[all]==1.18.1->VocalForge==0.1.1)\n",
      "  Using cached kaldi_python_io-1.2.2-py3-none-any.whl\n",
      "Collecting kaldiio (from nemo-toolkit[all]==1.18.1->VocalForge==0.1.1)\n",
      "  Using cached kaldiio-2.18.0-py3-none-any.whl (28 kB)\n",
      "Requirement already satisfied: librosa>=0.9.0 in /home/rio/anaconda3/envs/VocalForge/lib/python3.8/site-packages (from nemo-toolkit[all]==1.18.1->VocalForge==0.1.1) (0.10.1)\n",
      "Collecting marshmallow (from nemo-toolkit[all]==1.18.1->VocalForge==0.1.1)\n",
      "  Obtaining dependency information for marshmallow from https://files.pythonhosted.org/packages/ed/3c/cebfdcad015240014ff08b883d1c0c427f2ba45ae8c6572851b6ef136cad/marshmallow-3.20.1-py3-none-any.whl.metadata\n",
      "  Using cached marshmallow-3.20.1-py3-none-any.whl.metadata (7.8 kB)\n",
      "Requirement already satisfied: matplotlib in /home/rio/anaconda3/envs/VocalForge/lib/python3.8/site-packages (from nemo-toolkit[all]==1.18.1->VocalForge==0.1.1) (3.7.2)\n",
      "Requirement already satisfied: packaging in /home/rio/anaconda3/envs/VocalForge/lib/python3.8/site-packages (from nemo-toolkit[all]==1.18.1->VocalForge==0.1.1) (23.1)\n",
      "Requirement already satisfied: pyannote.core in /home/rio/anaconda3/envs/VocalForge/lib/python3.8/site-packages (from nemo-toolkit[all]==1.18.1->VocalForge==0.1.1) (5.0.0)\n",
      "Requirement already satisfied: pyannote.metrics in /home/rio/anaconda3/envs/VocalForge/lib/python3.8/site-packages (from nemo-toolkit[all]==1.18.1->VocalForge==0.1.1) (3.2.1)\n",
      "Requirement already satisfied: soundfile in /home/rio/anaconda3/envs/VocalForge/lib/python3.8/site-packages (from nemo-toolkit[all]==1.18.1->VocalForge==0.1.1) (0.12.1)\n",
      "Collecting sox (from nemo-toolkit[all]==1.18.1->VocalForge==0.1.1)\n",
      "  Using cached sox-1.4.1-py2.py3-none-any.whl (39 kB)\n",
      "Collecting texterrors (from nemo-toolkit[all]==1.18.1->VocalForge==0.1.1)\n",
      "  Using cached texterrors-0.4.4-cp38-cp38-manylinux_2_17_x86_64.manylinux2014_x86_64.whl (1.1 MB)\n",
      "Collecting boto3 (from nemo-toolkit[all]==1.18.1->VocalForge==0.1.1)\n",
      "  Obtaining dependency information for boto3 from https://files.pythonhosted.org/packages/c7/e7/5c557d60eb76ba55ff202bea08e15d1840ba0fe8d1c7bfccf54b8c5a2990/boto3-1.28.35-py3-none-any.whl.metadata\n",
      "  Using cached boto3-1.28.35-py3-none-any.whl.metadata (6.7 kB)\n",
      "Requirement already satisfied: einops in /home/rio/anaconda3/envs/VocalForge/lib/python3.8/site-packages (from nemo-toolkit[all]==1.18.1->VocalForge==0.1.1) (0.6.1)\n",
      "Collecting faiss-cpu (from nemo-toolkit[all]==1.18.1->VocalForge==0.1.1)\n",
      "  Using cached faiss_cpu-1.7.4-cp38-cp38-manylinux_2_17_x86_64.manylinux2014_x86_64.whl (17.6 MB)\n",
      "Collecting fasttext (from nemo-toolkit[all]==1.18.1->VocalForge==0.1.1)\n",
      "  Using cached fasttext-0.9.2-cp38-cp38-linux_x86_64.whl\n",
      "Collecting flask-restful (from nemo-toolkit[all]==1.18.1->VocalForge==0.1.1)\n",
      "  Obtaining dependency information for flask-restful from https://files.pythonhosted.org/packages/d7/7b/f0b45f0df7d2978e5ae51804bb5939b7897b2ace24306009da0cc34d8d1f/Flask_RESTful-0.3.10-py2.py3-none-any.whl.metadata\n",
      "  Using cached Flask_RESTful-0.3.10-py2.py3-none-any.whl.metadata (1.0 kB)\n",
      "Collecting ftfy (from nemo-toolkit[all]==1.18.1->VocalForge==0.1.1)\n",
      "  Using cached ftfy-6.1.1-py3-none-any.whl (53 kB)\n",
      "Collecting gdown (from nemo-toolkit[all]==1.18.1->VocalForge==0.1.1)\n",
      "  Using cached gdown-4.7.1-py3-none-any.whl (15 kB)\n",
      "Collecting gradio (from nemo-toolkit[all]==1.18.1->VocalForge==0.1.1)\n",
      "  Obtaining dependency information for gradio from https://files.pythonhosted.org/packages/df/e7/e0b548208ff5db6323ad974f094e9435adb0a377f35274196fb74adaf58a/gradio-3.41.2-py3-none-any.whl.metadata\n",
      "  Downloading gradio-3.41.2-py3-none-any.whl.metadata (17 kB)\n",
      "Collecting h5py (from nemo-toolkit[all]==1.18.1->VocalForge==0.1.1)\n",
      "  Obtaining dependency information for h5py from https://files.pythonhosted.org/packages/ae/3d/7d396c8be3ed11a0301d303af20a6dcb367d8ed78b4779de9e4962193303/h5py-3.9.0-cp38-cp38-manylinux_2_17_x86_64.manylinux2014_x86_64.whl.metadata\n",
      "  Using cached h5py-3.9.0-cp38-cp38-manylinux_2_17_x86_64.manylinux2014_x86_64.whl.metadata (2.5 kB)\n",
      "Collecting ijson (from nemo-toolkit[all]==1.18.1->VocalForge==0.1.1)\n",
      "  Obtaining dependency information for ijson from https://files.pythonhosted.org/packages/aa/aa/4552cf271ac94469ebe14f2acb4a38c5ba1bcc0db954f53b9f29408983af/ijson-3.2.3-cp38-cp38-manylinux_2_17_x86_64.manylinux2014_x86_64.whl.metadata\n",
      "  Using cached ijson-3.2.3-cp38-cp38-manylinux_2_17_x86_64.manylinux2014_x86_64.whl.metadata (20 kB)\n",
      "Collecting jieba (from nemo-toolkit[all]==1.18.1->VocalForge==0.1.1)\n",
      "  Using cached jieba-0.42.1-py3-none-any.whl\n",
      "Collecting megatron-core==0.1.0 (from nemo-toolkit[all]==1.18.1->VocalForge==0.1.1)\n",
      "  Obtaining dependency information for megatron-core==0.1.0 from https://files.pythonhosted.org/packages/7b/04/303677acf0091a095a2314115f88e88577c79945c3f0c10f50046978e457/megatron_core-0.1.0-py3-none-any.whl.metadata\n",
      "  Downloading megatron_core-0.1.0-py3-none-any.whl.metadata (1.6 kB)\n",
      "Collecting nltk>=3.6.5 (from nemo-toolkit[all]==1.18.1->VocalForge==0.1.1)\n",
      "  Using cached nltk-3.8.1-py3-none-any.whl (1.5 MB)\n",
      "Collecting opencc (from nemo-toolkit[all]==1.18.1->VocalForge==0.1.1)\n",
      "  Using cached OpenCC-1.1.6-cp38-cp38-manylinux1_x86_64.whl (778 kB)\n",
      "Collecting pangu (from nemo-toolkit[all]==1.18.1->VocalForge==0.1.1)\n",
      "  Using cached pangu-4.0.6.1-py3-none-any.whl (6.4 kB)\n",
      "Collecting rapidfuzz (from nemo-toolkit[all]==1.18.1->VocalForge==0.1.1)\n",
      "  Obtaining dependency information for rapidfuzz from https://files.pythonhosted.org/packages/d4/b9/3ad1bb76e876d13f35ed8ffce8867a33f3de3082673166011976b4bfa572/rapidfuzz-3.2.0-cp38-cp38-manylinux_2_17_x86_64.manylinux2014_x86_64.whl.metadata\n",
      "  Using cached rapidfuzz-3.2.0-cp38-cp38-manylinux_2_17_x86_64.manylinux2014_x86_64.whl.metadata (11 kB)\n",
      "Collecting rouge-score (from nemo-toolkit[all]==1.18.1->VocalForge==0.1.1)\n",
      "  Using cached rouge_score-0.1.2-py3-none-any.whl\n",
      "Collecting sacrebleu[ja] (from nemo-toolkit[all]==1.18.1->VocalForge==0.1.1)\n",
      "  Using cached sacrebleu-2.3.1-py3-none-any.whl (118 kB)\n",
      "Collecting sentence-transformers (from nemo-toolkit[all]==1.18.1->VocalForge==0.1.1)\n",
      "  Using cached sentence_transformers-2.2.2-py3-none-any.whl\n",
      "Collecting attrdict (from nemo-toolkit[all]==1.18.1->VocalForge==0.1.1)\n",
      "  Using cached attrdict-2.0.1-py2.py3-none-any.whl (9.9 kB)\n",
      "Collecting kornia (from nemo-toolkit[all]==1.18.1->VocalForge==0.1.1)\n",
      "  Obtaining dependency information for kornia from https://files.pythonhosted.org/packages/55/da/72cb83aa364ebb4d0109965e20c5d33d7063ccab15332c3fd0acfd5609c9/kornia-0.7.0-py2.py3-none-any.whl.metadata\n",
      "  Using cached kornia-0.7.0-py2.py3-none-any.whl.metadata (12 kB)\n",
      "Collecting nemo-text-processing (from nemo-toolkit[all]==1.18.1->VocalForge==0.1.1)\n",
      "  Obtaining dependency information for nemo-text-processing from https://files.pythonhosted.org/packages/bd/82/b776d01ba650c3ab42ba5e381e34b35e507a21b16ad1246f51026fa13f0b/nemo_text_processing-0.2.0rc0-py3-none-any.whl.metadata\n",
      "  Using cached nemo_text_processing-0.2.0rc0-py3-none-any.whl.metadata (7.2 kB)\n",
      "Collecting pypinyin (from nemo-toolkit[all]==1.18.1->VocalForge==0.1.1)\n",
      "  Obtaining dependency information for pypinyin from https://files.pythonhosted.org/packages/00/fc/3e82bf38739a7b2c4f699245ce6c84ff254723c678c2cdc5d2ecbddf9afb/pypinyin-0.49.0-py2.py3-none-any.whl.metadata\n",
      "  Using cached pypinyin-0.49.0-py2.py3-none-any.whl.metadata (12 kB)\n",
      "Collecting pypinyin-dict (from nemo-toolkit[all]==1.18.1->VocalForge==0.1.1)\n",
      "  Obtaining dependency information for pypinyin-dict from https://files.pythonhosted.org/packages/89/31/16c26425685a84191503a226450837e0f4d540c164665d8567f2472861a9/pypinyin_dict-0.6.0-py2.py3-none-any.whl.metadata\n",
      "  Using cached pypinyin_dict-0.6.0-py2.py3-none-any.whl.metadata (3.6 kB)\n",
      "Collecting progress>=1.5 (from nemo-toolkit[all]==1.18.1->VocalForge==0.1.1)\n",
      "  Using cached progress-1.6-py3-none-any.whl\n",
      "Requirement already satisfied: tabulate>=0.8.7 in /home/rio/anaconda3/envs/VocalForge/lib/python3.8/site-packages (from nemo-toolkit[all]==1.18.1->VocalForge==0.1.1) (0.9.0)\n",
      "Collecting textdistance>=4.1.5 (from nemo-toolkit[all]==1.18.1->VocalForge==0.1.1)\n",
      "  Using cached textdistance-4.5.0-py3-none-any.whl (31 kB)\n",
      "Requirement already satisfied: docopt>=0.6.2 in /home/rio/anaconda3/envs/VocalForge/lib/python3.8/site-packages (from num2words==0.5.12->VocalForge==0.1.1) (0.6.2)\n",
      "Requirement already satisfied: pytz>=2020.1 in /home/rio/anaconda3/envs/VocalForge/lib/python3.8/site-packages (from pandas==1.4.3->VocalForge==0.1.1) (2023.3)\n",
      "Requirement already satisfied: attrs>=18.1.0 in /home/rio/anaconda3/envs/VocalForge/lib/python3.8/site-packages (from black==19.10b0->nemo-toolkit[all]==1.18.1->VocalForge==0.1.1) (23.1.0)\n",
      "Requirement already satisfied: appdirs in /home/rio/anaconda3/envs/VocalForge/lib/python3.8/site-packages (from black==19.10b0->nemo-toolkit[all]==1.18.1->VocalForge==0.1.1) (1.4.4)\n",
      "Collecting toml>=0.9.4 (from black==19.10b0->nemo-toolkit[all]==1.18.1->VocalForge==0.1.1)\n",
      "  Using cached toml-0.10.2-py2.py3-none-any.whl (16 kB)\n",
      "Collecting typed-ast>=1.4.0 (from black==19.10b0->nemo-toolkit[all]==1.18.1->VocalForge==0.1.1)\n",
      "  Obtaining dependency information for typed-ast>=1.4.0 from https://files.pythonhosted.org/packages/31/f3/38839df509b04fb54205e388fc04b47627377e0ad628870112086864a441/typed_ast-1.5.5-cp38-cp38-manylinux_2_17_x86_64.manylinux2014_x86_64.whl.metadata\n",
      "  Using cached typed_ast-1.5.5-cp38-cp38-manylinux_2_17_x86_64.manylinux2014_x86_64.whl.metadata (1.7 kB)\n",
      "Collecting pathspec<1,>=0.6 (from black==19.10b0->nemo-toolkit[all]==1.18.1->VocalForge==0.1.1)\n",
      "  Obtaining dependency information for pathspec<1,>=0.6 from https://files.pythonhosted.org/packages/b4/2a/9b1be29146139ef459188f5e420a66e835dda921208db600b7037093891f/pathspec-0.11.2-py3-none-any.whl.metadata\n",
      "  Using cached pathspec-0.11.2-py3-none-any.whl.metadata (19 kB)\n",
      "Requirement already satisfied: antlr4-python3-runtime==4.9.* in /home/rio/anaconda3/envs/VocalForge/lib/python3.8/site-packages (from hydra-core->VocalForge==0.1.1) (4.9.3)\n",
      "Requirement already satisfied: importlib-resources in /home/rio/anaconda3/envs/VocalForge/lib/python3.8/site-packages (from hydra-core->VocalForge==0.1.1) (6.0.1)\n",
      "Requirement already satisfied: Cython in /home/rio/anaconda3/envs/VocalForge/lib/python3.8/site-packages (from ctc-segmentation->VocalForge==0.1.1) (3.0.1)\n",
      "Requirement already satisfied: triton==2.0.0 in /home/rio/anaconda3/envs/VocalForge/lib/python3.8/site-packages (from openai-whisper->VocalForge==0.1.1) (2.0.0)\n",
      "Requirement already satisfied: more-itertools in /home/rio/anaconda3/envs/VocalForge/lib/python3.8/site-packages (from openai-whisper->VocalForge==0.1.1) (10.1.0)\n",
      "Requirement already satisfied: tiktoken==0.3.1 in /home/rio/anaconda3/envs/VocalForge/lib/python3.8/site-packages (from openai-whisper->VocalForge==0.1.1) (0.3.1)\n",
      "Requirement already satisfied: ffmpeg-python==0.2.0 in /home/rio/anaconda3/envs/VocalForge/lib/python3.8/site-packages (from openai-whisper->VocalForge==0.1.1) (0.2.0)\n",
      "Requirement already satisfied: future in /home/rio/anaconda3/envs/VocalForge/lib/python3.8/site-packages (from ffmpeg-python==0.2.0->openai-whisper->VocalForge==0.1.1) (0.18.3)\n",
      "Requirement already satisfied: requests>=2.26.0 in /home/rio/anaconda3/envs/VocalForge/lib/python3.8/site-packages (from tiktoken==0.3.1->openai-whisper->VocalForge==0.1.1) (2.31.0)\n",
      "Requirement already satisfied: cmake in /home/rio/anaconda3/envs/VocalForge/lib/python3.8/site-packages (from triton==2.0.0->openai-whisper->VocalForge==0.1.1) (3.27.2)\n",
      "Requirement already satisfied: filelock in /home/rio/anaconda3/envs/VocalForge/lib/python3.8/site-packages (from triton==2.0.0->openai-whisper->VocalForge==0.1.1) (3.12.2)\n",
      "Requirement already satisfied: lit in /home/rio/anaconda3/envs/VocalForge/lib/python3.8/site-packages (from triton==2.0.0->openai-whisper->VocalForge==0.1.1) (16.0.6)\n",
      "Requirement already satisfied: six in /home/rio/anaconda3/envs/VocalForge/lib/python3.8/site-packages (from whisper->VocalForge==0.1.1) (1.16.0)\n",
      "INFO: pip is looking at multiple versions of jiwer to determine which version is compatible with other requirements. This could take a while.\n",
      "Collecting jiwer (from nemo-toolkit[all]==1.18.1->VocalForge==0.1.1)\n",
      "  Using cached jiwer-3.0.1-py3-none-any.whl (21 kB)\n",
      "  Using cached jiwer-3.0.0-py3-none-any.whl (21 kB)\n",
      "  Using cached jiwer-2.6.0-py3-none-any.whl (20 kB)\n",
      "  Using cached jiwer-2.5.2-py3-none-any.whl (15 kB)\n",
      "Collecting rapidfuzz (from nemo-toolkit[all]==1.18.1->VocalForge==0.1.1)\n",
      "  Using cached rapidfuzz-2.13.7-cp38-cp38-manylinux_2_17_x86_64.manylinux2014_x86_64.whl (2.2 MB)\n",
      "Requirement already satisfied: audioread>=2.1.9 in /home/rio/anaconda3/envs/VocalForge/lib/python3.8/site-packages (from librosa>=0.9.0->nemo-toolkit[all]==1.18.1->VocalForge==0.1.1) (3.0.0)\n",
      "Requirement already satisfied: decorator>=4.3.0 in /home/rio/anaconda3/envs/VocalForge/lib/python3.8/site-packages (from librosa>=0.9.0->nemo-toolkit[all]==1.18.1->VocalForge==0.1.1) (5.1.1)\n",
      "Requirement already satisfied: pooch>=1.0 in /home/rio/anaconda3/envs/VocalForge/lib/python3.8/site-packages (from librosa>=0.9.0->nemo-toolkit[all]==1.18.1->VocalForge==0.1.1) (1.7.0)\n",
      "Requirement already satisfied: soxr>=0.3.2 in /home/rio/anaconda3/envs/VocalForge/lib/python3.8/site-packages (from librosa>=0.9.0->nemo-toolkit[all]==1.18.1->VocalForge==0.1.1) (0.3.6)\n",
      "Requirement already satisfied: typing-extensions>=4.1.1 in /home/rio/anaconda3/envs/VocalForge/lib/python3.8/site-packages (from librosa>=0.9.0->nemo-toolkit[all]==1.18.1->VocalForge==0.1.1) (4.7.1)\n",
      "Requirement already satisfied: lazy-loader>=0.1 in /home/rio/anaconda3/envs/VocalForge/lib/python3.8/site-packages (from librosa>=0.9.0->nemo-toolkit[all]==1.18.1->VocalForge==0.1.1) (0.3)\n",
      "Requirement already satisfied: msgpack>=1.0 in /home/rio/anaconda3/envs/VocalForge/lib/python3.8/site-packages (from librosa>=0.9.0->nemo-toolkit[all]==1.18.1->VocalForge==0.1.1) (1.0.5)\n",
      "Requirement already satisfied: contourpy>=1.0.1 in /home/rio/anaconda3/envs/VocalForge/lib/python3.8/site-packages (from matplotlib->nemo-toolkit[all]==1.18.1->VocalForge==0.1.1) (1.1.0)\n",
      "Requirement already satisfied: cycler>=0.10 in /home/rio/anaconda3/envs/VocalForge/lib/python3.8/site-packages (from matplotlib->nemo-toolkit[all]==1.18.1->VocalForge==0.1.1) (0.11.0)\n",
      "Requirement already satisfied: fonttools>=4.22.0 in /home/rio/anaconda3/envs/VocalForge/lib/python3.8/site-packages (from matplotlib->nemo-toolkit[all]==1.18.1->VocalForge==0.1.1) (4.42.1)\n",
      "Requirement already satisfied: kiwisolver>=1.0.1 in /home/rio/anaconda3/envs/VocalForge/lib/python3.8/site-packages (from matplotlib->nemo-toolkit[all]==1.18.1->VocalForge==0.1.1) (1.4.5)\n",
      "Requirement already satisfied: pillow>=6.2.0 in /home/rio/anaconda3/envs/VocalForge/lib/python3.8/site-packages (from matplotlib->nemo-toolkit[all]==1.18.1->VocalForge==0.1.1) (9.4.0)\n",
      "Requirement already satisfied: pyparsing<3.1,>=2.3.1 in /home/rio/anaconda3/envs/VocalForge/lib/python3.8/site-packages (from matplotlib->nemo-toolkit[all]==1.18.1->VocalForge==0.1.1) (3.0.9)\n",
      "Requirement already satisfied: zipp>=3.1.0 in /home/rio/anaconda3/envs/VocalForge/lib/python3.8/site-packages (from importlib-resources->hydra-core->VocalForge==0.1.1) (3.16.2)\n",
      "Requirement already satisfied: llvmlite<0.41,>=0.40.0dev0 in /home/rio/anaconda3/envs/VocalForge/lib/python3.8/site-packages (from numba->nemo-toolkit[all]==1.18.1->VocalForge==0.1.1) (0.40.1)\n",
      "Requirement already satisfied: importlib-metadata in /home/rio/anaconda3/envs/VocalForge/lib/python3.8/site-packages (from numba->nemo-toolkit[all]==1.18.1->VocalForge==0.1.1) (6.8.0)\n",
      "Requirement already satisfied: protobuf>=3.20.2 in /home/rio/anaconda3/envs/VocalForge/lib/python3.8/site-packages (from onnx>=1.7.0->nemo-toolkit[all]==1.18.1->VocalForge==0.1.1) (4.24.2)\n",
      "Requirement already satisfied: fsspec[http]>2021.06.0 in /home/rio/anaconda3/envs/VocalForge/lib/python3.8/site-packages (from pytorch-lightning<=1.9.4,>=1.9.0->nemo-toolkit[all]==1.18.1->VocalForge==0.1.1) (2023.6.0)\n",
      "Requirement already satisfied: lightning-utilities>=0.6.0.post0 in /home/rio/anaconda3/envs/VocalForge/lib/python3.8/site-packages (from pytorch-lightning<=1.9.4,>=1.9.0->nemo-toolkit[all]==1.18.1->VocalForge==0.1.1) (0.9.0)\n",
      "Requirement already satisfied: threadpoolctl>=2.0.0 in /home/rio/anaconda3/envs/VocalForge/lib/python3.8/site-packages (from scikit-learn->nemo-toolkit[all]==1.18.1->VocalForge==0.1.1) (3.2.0)\n",
      "Requirement already satisfied: cffi>=1.0 in /home/rio/anaconda3/envs/VocalForge/lib/python3.8/site-packages (from soundfile->nemo-toolkit[all]==1.18.1->VocalForge==0.1.1) (1.15.0)\n",
      "Requirement already satisfied: sympy in /home/rio/anaconda3/envs/VocalForge/lib/python3.8/site-packages (from torch->nemo-toolkit[all]==1.18.1->VocalForge==0.1.1) (1.12)\n",
      "Requirement already satisfied: networkx in /home/rio/anaconda3/envs/VocalForge/lib/python3.8/site-packages (from torch->nemo-toolkit[all]==1.18.1->VocalForge==0.1.1) (3.1)\n",
      "Requirement already satisfied: jinja2 in /home/rio/anaconda3/envs/VocalForge/lib/python3.8/site-packages (from torch->nemo-toolkit[all]==1.18.1->VocalForge==0.1.1) (3.1.2)\n",
      "Requirement already satisfied: nvidia-cuda-nvrtc-cu11==11.7.99 in /home/rio/anaconda3/envs/VocalForge/lib/python3.8/site-packages (from torch->nemo-toolkit[all]==1.18.1->VocalForge==0.1.1) (11.7.99)\n",
      "Requirement already satisfied: nvidia-cuda-runtime-cu11==11.7.99 in /home/rio/anaconda3/envs/VocalForge/lib/python3.8/site-packages (from torch->nemo-toolkit[all]==1.18.1->VocalForge==0.1.1) (11.7.99)\n",
      "Requirement already satisfied: nvidia-cuda-cupti-cu11==11.7.101 in /home/rio/anaconda3/envs/VocalForge/lib/python3.8/site-packages (from torch->nemo-toolkit[all]==1.18.1->VocalForge==0.1.1) (11.7.101)\n",
      "Requirement already satisfied: nvidia-cudnn-cu11==8.5.0.96 in /home/rio/anaconda3/envs/VocalForge/lib/python3.8/site-packages (from torch->nemo-toolkit[all]==1.18.1->VocalForge==0.1.1) (8.5.0.96)\n",
      "Requirement already satisfied: nvidia-cublas-cu11==11.10.3.66 in /home/rio/anaconda3/envs/VocalForge/lib/python3.8/site-packages (from torch->nemo-toolkit[all]==1.18.1->VocalForge==0.1.1) (11.10.3.66)\n",
      "Requirement already satisfied: nvidia-cufft-cu11==10.9.0.58 in /home/rio/anaconda3/envs/VocalForge/lib/python3.8/site-packages (from torch->nemo-toolkit[all]==1.18.1->VocalForge==0.1.1) (10.9.0.58)\n",
      "Requirement already satisfied: nvidia-curand-cu11==10.2.10.91 in /home/rio/anaconda3/envs/VocalForge/lib/python3.8/site-packages (from torch->nemo-toolkit[all]==1.18.1->VocalForge==0.1.1) (10.2.10.91)\n",
      "Requirement already satisfied: nvidia-cusolver-cu11==11.4.0.1 in /home/rio/anaconda3/envs/VocalForge/lib/python3.8/site-packages (from torch->nemo-toolkit[all]==1.18.1->VocalForge==0.1.1) (11.4.0.1)\n",
      "Requirement already satisfied: nvidia-cusparse-cu11==11.7.4.91 in /home/rio/anaconda3/envs/VocalForge/lib/python3.8/site-packages (from torch->nemo-toolkit[all]==1.18.1->VocalForge==0.1.1) (11.7.4.91)\n",
      "Requirement already satisfied: nvidia-nccl-cu11==2.14.3 in /home/rio/anaconda3/envs/VocalForge/lib/python3.8/site-packages (from torch->nemo-toolkit[all]==1.18.1->VocalForge==0.1.1) (2.14.3)\n",
      "Requirement already satisfied: nvidia-nvtx-cu11==11.7.91 in /home/rio/anaconda3/envs/VocalForge/lib/python3.8/site-packages (from torch->nemo-toolkit[all]==1.18.1->VocalForge==0.1.1) (11.7.91)\n",
      "Requirement already satisfied: wheel in /home/rio/anaconda3/envs/VocalForge/lib/python3.8/site-packages (from nvidia-cublas-cu11==11.10.3.66->torch->nemo-toolkit[all]==1.18.1->VocalForge==0.1.1) (0.38.4)\n",
      "Requirement already satisfied: tokenizers!=0.11.3,<0.14,>=0.11.1 in /home/rio/anaconda3/envs/VocalForge/lib/python3.8/site-packages (from transformers>=4.0.1->nemo-toolkit[all]==1.18.1->VocalForge==0.1.1) (0.13.3)\n",
      "Requirement already satisfied: safetensors>=0.3.1 in /home/rio/anaconda3/envs/VocalForge/lib/python3.8/site-packages (from transformers>=4.0.1->nemo-toolkit[all]==1.18.1->VocalForge==0.1.1) (0.3.3)\n",
      "Collecting botocore<1.32.0,>=1.31.35 (from boto3->nemo-toolkit[all]==1.18.1->VocalForge==0.1.1)\n",
      "  Obtaining dependency information for botocore<1.32.0,>=1.31.35 from https://files.pythonhosted.org/packages/35/5a/effb72e1cee7f9f3538a73b75870687cef1d9a377da7a70b75d7e1a38c5c/botocore-1.31.35-py3-none-any.whl.metadata\n",
      "  Using cached botocore-1.31.35-py3-none-any.whl.metadata (6.0 kB)\n",
      "Collecting jmespath<2.0.0,>=0.7.1 (from boto3->nemo-toolkit[all]==1.18.1->VocalForge==0.1.1)\n",
      "  Using cached jmespath-1.0.1-py3-none-any.whl (20 kB)\n",
      "Collecting s3transfer<0.7.0,>=0.6.0 (from boto3->nemo-toolkit[all]==1.18.1->VocalForge==0.1.1)\n",
      "  Obtaining dependency information for s3transfer<0.7.0,>=0.6.0 from https://files.pythonhosted.org/packages/d9/17/a3b666f5ef9543cfd3c661d39d1e193abb9649d0cfbbfee3cf3b51d5af02/s3transfer-0.6.2-py3-none-any.whl.metadata\n",
      "  Using cached s3transfer-0.6.2-py3-none-any.whl.metadata (1.8 kB)\n",
      "Collecting pybind11>=2.2 (from fasttext->nemo-toolkit[all]==1.18.1->VocalForge==0.1.1)\n",
      "  Obtaining dependency information for pybind11>=2.2 from https://files.pythonhosted.org/packages/06/55/9f73c32dda93fa4f539fafa268f9504e83c489f460c380371d94296126cd/pybind11-2.11.1-py3-none-any.whl.metadata\n",
      "  Using cached pybind11-2.11.1-py3-none-any.whl.metadata (9.5 kB)\n",
      "Collecting aniso8601>=0.82 (from flask-restful->nemo-toolkit[all]==1.18.1->VocalForge==0.1.1)\n",
      "  Using cached aniso8601-9.0.1-py2.py3-none-any.whl (52 kB)\n",
      "Collecting Flask>=0.8 (from flask-restful->nemo-toolkit[all]==1.18.1->VocalForge==0.1.1)\n",
      "  Obtaining dependency information for Flask>=0.8 from https://files.pythonhosted.org/packages/fd/56/26f0be8adc2b4257df20c1c4260ddd0aa396cf8e75d90ab2f7ff99bc34f9/flask-2.3.3-py3-none-any.whl.metadata\n",
      "  Using cached flask-2.3.3-py3-none-any.whl.metadata (3.6 kB)\n",
      "Requirement already satisfied: wcwidth>=0.2.5 in /home/rio/anaconda3/envs/VocalForge/lib/python3.8/site-packages (from ftfy->nemo-toolkit[all]==1.18.1->VocalForge==0.1.1) (0.2.6)\n",
      "Collecting distance>=0.1.3 (from g2p-en->nemo-toolkit[all]==1.18.1->VocalForge==0.1.1)\n",
      "  Using cached Distance-0.1.3-py3-none-any.whl\n",
      "Requirement already satisfied: pydantic>=1.9.1 in /home/rio/anaconda3/envs/VocalForge/lib/python3.8/site-packages (from inflect->nemo-toolkit[all]==1.18.1->VocalForge==0.1.1) (2.1.1)\n",
      "Requirement already satisfied: beautifulsoup4 in /home/rio/anaconda3/envs/VocalForge/lib/python3.8/site-packages (from gdown->nemo-toolkit[all]==1.18.1->VocalForge==0.1.1) (4.12.2)\n",
      "Collecting aiofiles<24.0,>=22.0 (from gradio->nemo-toolkit[all]==1.18.1->VocalForge==0.1.1)\n",
      "  Obtaining dependency information for aiofiles<24.0,>=22.0 from https://files.pythonhosted.org/packages/c5/19/5af6804c4cc0fed83f47bff6e413a98a36618e7d40185cd36e69737f3b0e/aiofiles-23.2.1-py3-none-any.whl.metadata\n",
      "  Downloading aiofiles-23.2.1-py3-none-any.whl.metadata (9.7 kB)\n",
      "Collecting altair<6.0,>=4.2.0 (from gradio->nemo-toolkit[all]==1.18.1->VocalForge==0.1.1)\n",
      "  Obtaining dependency information for altair<6.0,>=4.2.0 from https://files.pythonhosted.org/packages/b2/20/5c3b89d6f8d9938325a9330793438389e0dc94c34d921f6da35ec62095f3/altair-5.0.1-py3-none-any.whl.metadata\n",
      "  Downloading altair-5.0.1-py3-none-any.whl.metadata (8.5 kB)\n",
      "Requirement already satisfied: fastapi in /home/rio/anaconda3/envs/VocalForge/lib/python3.8/site-packages (from gradio->nemo-toolkit[all]==1.18.1->VocalForge==0.1.1) (0.103.0)\n",
      "Collecting ffmpy (from gradio->nemo-toolkit[all]==1.18.1->VocalForge==0.1.1)\n",
      "  Downloading ffmpy-0.3.1.tar.gz (5.5 kB)\n",
      "  Preparing metadata (setup.py) ... \u001b[?25ldone\n",
      "\u001b[?25hCollecting gradio-client==0.5.0 (from gradio->nemo-toolkit[all]==1.18.1->VocalForge==0.1.1)\n",
      "  Obtaining dependency information for gradio-client==0.5.0 from https://files.pythonhosted.org/packages/fe/85/ec0323f39192c4bee04e8e06e64213aff816b9d1b61c3c8367e75b1c7e10/gradio_client-0.5.0-py3-none-any.whl.metadata\n",
      "  Downloading gradio_client-0.5.0-py3-none-any.whl.metadata (7.1 kB)\n",
      "Collecting httpx (from gradio->nemo-toolkit[all]==1.18.1->VocalForge==0.1.1)\n",
      "  Obtaining dependency information for httpx from https://files.pythonhosted.org/packages/ec/91/e41f64f03d2a13aee7e8c819d82ee3aa7cdc484d18c0ae859742597d5aa0/httpx-0.24.1-py3-none-any.whl.metadata\n",
      "  Downloading httpx-0.24.1-py3-none-any.whl.metadata (7.4 kB)\n",
      "Requirement already satisfied: markupsafe~=2.0 in /home/rio/anaconda3/envs/VocalForge/lib/python3.8/site-packages (from gradio->nemo-toolkit[all]==1.18.1->VocalForge==0.1.1) (2.1.3)\n",
      "Collecting orjson~=3.0 (from gradio->nemo-toolkit[all]==1.18.1->VocalForge==0.1.1)\n",
      "  Obtaining dependency information for orjson~=3.0 from https://files.pythonhosted.org/packages/53/a4/6bbfe76ea9ce96f8895fb1cadb0c6c86b5fcd1c4cdce13e96a28dc98f40f/orjson-3.9.5-cp38-cp38-manylinux_2_17_x86_64.manylinux2014_x86_64.whl.metadata\n",
      "  Downloading orjson-3.9.5-cp38-cp38-manylinux_2_17_x86_64.manylinux2014_x86_64.whl.metadata (49 kB)\n",
      "\u001b[2K     \u001b[90m━━━━━━━━━━━━━━━━━━━━━━━━━━━━━━━━━━━━━━━━\u001b[0m \u001b[32m49.2/49.2 kB\u001b[0m \u001b[31m6.4 MB/s\u001b[0m eta \u001b[36m0:00:00\u001b[0m\n",
      "\u001b[?25hRequirement already satisfied: python-multipart in /home/rio/anaconda3/envs/VocalForge/lib/python3.8/site-packages (from gradio->nemo-toolkit[all]==1.18.1->VocalForge==0.1.1) (0.0.6)\n",
      "Collecting semantic-version~=2.0 (from gradio->nemo-toolkit[all]==1.18.1->VocalForge==0.1.1)\n",
      "  Using cached semantic_version-2.10.0-py2.py3-none-any.whl (15 kB)\n",
      "Requirement already satisfied: uvicorn>=0.14.0 in /home/rio/anaconda3/envs/VocalForge/lib/python3.8/site-packages (from gradio->nemo-toolkit[all]==1.18.1->VocalForge==0.1.1) (0.23.2)\n",
      "Requirement already satisfied: websockets<12.0,>=10.0 in /home/rio/anaconda3/envs/VocalForge/lib/python3.8/site-packages (from gradio->nemo-toolkit[all]==1.18.1->VocalForge==0.1.1) (11.0.3)\n",
      "Requirement already satisfied: comm>=0.1.3 in /home/rio/anaconda3/envs/VocalForge/lib/python3.8/site-packages (from ipywidgets->nemo-toolkit[all]==1.18.1->VocalForge==0.1.1) (0.1.4)\n",
      "Requirement already satisfied: ipython>=6.1.0 in /home/rio/anaconda3/envs/VocalForge/lib/python3.8/site-packages (from ipywidgets->nemo-toolkit[all]==1.18.1->VocalForge==0.1.1) (8.12.0)\n",
      "Requirement already satisfied: traitlets>=4.3.1 in /home/rio/anaconda3/envs/VocalForge/lib/python3.8/site-packages (from ipywidgets->nemo-toolkit[all]==1.18.1->VocalForge==0.1.1) (5.9.0)\n",
      "Collecting widgetsnbextension~=4.0.7 (from ipywidgets->nemo-toolkit[all]==1.18.1->VocalForge==0.1.1)\n",
      "  Obtaining dependency information for widgetsnbextension~=4.0.7 from https://files.pythonhosted.org/packages/8e/d4/d31b12ac0b87e8cc9fdb6ea1eb6596de405eaaa2f25606aaa755d0eebbc0/widgetsnbextension-4.0.8-py3-none-any.whl.metadata\n",
      "  Using cached widgetsnbextension-4.0.8-py3-none-any.whl.metadata (1.6 kB)\n",
      "Collecting jupyterlab-widgets~=3.0.7 (from ipywidgets->nemo-toolkit[all]==1.18.1->VocalForge==0.1.1)\n",
      "  Obtaining dependency information for jupyterlab-widgets~=3.0.7 from https://files.pythonhosted.org/packages/74/5e/2475ac62faf2e342b2bf20b8d8e375f49400ecb38f52e4e0a7557eb1cedb/jupyterlab_widgets-3.0.8-py3-none-any.whl.metadata\n",
      "  Using cached jupyterlab_widgets-3.0.8-py3-none-any.whl.metadata (4.1 kB)\n",
      "Collecting cdifflib (from nemo-text-processing->nemo-toolkit[all]==1.18.1->VocalForge==0.1.1)\n",
      "  Using cached cdifflib-1.2.6-cp38-cp38-linux_x86_64.whl\n",
      "Collecting pynini==2.1.5 (from nemo-text-processing->nemo-toolkit[all]==1.18.1->VocalForge==0.1.1)\n",
      "  Using cached pynini-2.1.5-cp38-cp38-manylinux_2_17_x86_64.manylinux2014_x86_64.whl (161.5 MB)\n",
      "Requirement already satisfied: sortedcontainers>=2.0.4 in /home/rio/anaconda3/envs/VocalForge/lib/python3.8/site-packages (from pyannote.core->nemo-toolkit[all]==1.18.1->VocalForge==0.1.1) (2.4.0)\n",
      "Requirement already satisfied: pyannote.database>=4.0.1 in /home/rio/anaconda3/envs/VocalForge/lib/python3.8/site-packages (from pyannote.metrics->nemo-toolkit[all]==1.18.1->VocalForge==0.1.1) (5.0.1)\n",
      "Collecting iniconfig (from pytest->nemo-toolkit[all]==1.18.1->VocalForge==0.1.1)\n",
      "  Using cached iniconfig-2.0.0-py3-none-any.whl (5.9 kB)\n",
      "Collecting pluggy<2.0,>=0.12 (from pytest->nemo-toolkit[all]==1.18.1->VocalForge==0.1.1)\n",
      "  Obtaining dependency information for pluggy<2.0,>=0.12 from https://files.pythonhosted.org/packages/05/b8/42ed91898d4784546c5f06c60506400548db3f7a4b3fb441cba4e5c17952/pluggy-1.3.0-py3-none-any.whl.metadata\n",
      "  Using cached pluggy-1.3.0-py3-none-any.whl.metadata (4.3 kB)\n",
      "Requirement already satisfied: exceptiongroup>=1.0.0rc8 in /home/rio/anaconda3/envs/VocalForge/lib/python3.8/site-packages (from pytest->nemo-toolkit[all]==1.18.1->VocalForge==0.1.1) (1.1.3)\n",
      "Collecting tomli>=1.0.0 (from pytest->nemo-toolkit[all]==1.18.1->VocalForge==0.1.1)\n",
      "  Using cached tomli-2.0.1-py3-none-any.whl (12 kB)\n",
      "Requirement already satisfied: absl-py in /home/rio/anaconda3/envs/VocalForge/lib/python3.8/site-packages (from rouge-score->nemo-toolkit[all]==1.18.1->VocalForge==0.1.1) (1.4.0)\n",
      "Requirement already satisfied: ruamel.yaml.clib>=0.2.7 in /home/rio/anaconda3/envs/VocalForge/lib/python3.8/site-packages (from ruamel.yaml->nemo-toolkit[all]==1.18.1->VocalForge==0.1.1) (0.2.7)\n",
      "Collecting portalocker (from sacrebleu[ja]->nemo-toolkit[all]==1.18.1->VocalForge==0.1.1)\n",
      "  Using cached portalocker-2.7.0-py2.py3-none-any.whl (15 kB)\n",
      "Requirement already satisfied: colorama in /home/rio/anaconda3/envs/VocalForge/lib/python3.8/site-packages (from sacrebleu[ja]->nemo-toolkit[all]==1.18.1->VocalForge==0.1.1) (0.4.6)\n",
      "Collecting lxml (from sacrebleu[ja]->nemo-toolkit[all]==1.18.1->VocalForge==0.1.1)\n",
      "  Obtaining dependency information for lxml from https://files.pythonhosted.org/packages/44/1b/0771c38e65ad23e25368b5e07c920054774b8d12477a4fad116bf500de73/lxml-4.9.3-cp38-cp38-manylinux_2_28_x86_64.whl.metadata\n",
      "  Using cached lxml-4.9.3-cp38-cp38-manylinux_2_28_x86_64.whl.metadata (3.8 kB)\n",
      "Collecting mecab-python3==1.0.5 (from sacrebleu[ja]->nemo-toolkit[all]==1.18.1->VocalForge==0.1.1)\n",
      "  Using cached mecab_python3-1.0.5-cp38-cp38-manylinux_2_17_x86_64.manylinux2014_x86_64.whl (577 kB)\n",
      "Collecting ipadic<2.0,>=1.0 (from sacrebleu[ja]->nemo-toolkit[all]==1.18.1->VocalForge==0.1.1)\n",
      "  Using cached ipadic-1.0.0-py3-none-any.whl\n",
      "Requirement already satisfied: torchvision in /home/rio/anaconda3/envs/VocalForge/lib/python3.8/site-packages (from sentence-transformers->nemo-toolkit[all]==1.18.1->VocalForge==0.1.1) (0.15.2)\n",
      "Collecting sphinxcontrib-applehelp (from sphinx->nemo-toolkit[all]==1.18.1->VocalForge==0.1.1)\n",
      "  Using cached sphinxcontrib_applehelp-1.0.4-py3-none-any.whl (120 kB)\n",
      "Collecting sphinxcontrib-devhelp (from sphinx->nemo-toolkit[all]==1.18.1->VocalForge==0.1.1)\n",
      "  Using cached sphinxcontrib_devhelp-1.0.2-py2.py3-none-any.whl (84 kB)\n",
      "Collecting sphinxcontrib-jsmath (from sphinx->nemo-toolkit[all]==1.18.1->VocalForge==0.1.1)\n",
      "  Using cached sphinxcontrib_jsmath-1.0.1-py2.py3-none-any.whl (5.1 kB)\n",
      "Collecting sphinxcontrib-htmlhelp>=2.0.0 (from sphinx->nemo-toolkit[all]==1.18.1->VocalForge==0.1.1)\n",
      "  Using cached sphinxcontrib_htmlhelp-2.0.1-py3-none-any.whl (99 kB)\n",
      "Collecting sphinxcontrib-serializinghtml>=1.1.5 (from sphinx->nemo-toolkit[all]==1.18.1->VocalForge==0.1.1)\n",
      "  Using cached sphinxcontrib_serializinghtml-1.1.5-py2.py3-none-any.whl (94 kB)\n",
      "Collecting sphinxcontrib-qthelp (from sphinx->nemo-toolkit[all]==1.18.1->VocalForge==0.1.1)\n",
      "  Using cached sphinxcontrib_qthelp-1.0.3-py2.py3-none-any.whl (90 kB)\n",
      "Requirement already satisfied: Pygments>=2.13 in /home/rio/anaconda3/envs/VocalForge/lib/python3.8/site-packages (from sphinx->nemo-toolkit[all]==1.18.1->VocalForge==0.1.1) (2.16.1)\n",
      "Collecting docutils<0.21,>=0.18.1 (from sphinx->nemo-toolkit[all]==1.18.1->VocalForge==0.1.1)\n",
      "  Obtaining dependency information for docutils<0.21,>=0.18.1 from https://files.pythonhosted.org/packages/26/87/f238c0670b94533ac0353a4e2a1a771a0cc73277b88bff23d3ae35a256c1/docutils-0.20.1-py3-none-any.whl.metadata\n",
      "  Using cached docutils-0.20.1-py3-none-any.whl.metadata (2.8 kB)\n",
      "Collecting snowballstemmer>=2.0 (from sphinx->nemo-toolkit[all]==1.18.1->VocalForge==0.1.1)\n",
      "  Using cached snowballstemmer-2.2.0-py2.py3-none-any.whl (93 kB)\n",
      "Collecting babel>=2.9 (from sphinx->nemo-toolkit[all]==1.18.1->VocalForge==0.1.1)\n",
      "  Using cached Babel-2.12.1-py3-none-any.whl (10.1 MB)\n",
      "Collecting alabaster<0.8,>=0.7 (from sphinx->nemo-toolkit[all]==1.18.1->VocalForge==0.1.1)\n",
      "  Using cached alabaster-0.7.13-py3-none-any.whl (13 kB)\n",
      "Collecting imagesize>=1.3 (from sphinx->nemo-toolkit[all]==1.18.1->VocalForge==0.1.1)\n",
      "  Using cached imagesize-1.4.1-py2.py3-none-any.whl (8.8 kB)\n",
      "Collecting pybtex>=0.24 (from sphinxcontrib-bibtex->nemo-toolkit[all]==1.18.1->VocalForge==0.1.1)\n",
      "  Using cached pybtex-0.24.0-py2.py3-none-any.whl (561 kB)\n",
      "Collecting pybtex-docutils>=1.0.0 (from sphinxcontrib-bibtex->nemo-toolkit[all]==1.18.1->VocalForge==0.1.1)\n",
      "  Obtaining dependency information for pybtex-docutils>=1.0.0 from https://files.pythonhosted.org/packages/11/b1/ce1f4596211efb5410e178a803f08e59b20bedb66837dcf41e21c54f9ec1/pybtex_docutils-1.0.3-py3-none-any.whl.metadata\n",
      "  Using cached pybtex_docutils-1.0.3-py3-none-any.whl.metadata (4.3 kB)\n",
      "Requirement already satisfied: grpcio>=1.48.2 in /home/rio/anaconda3/envs/VocalForge/lib/python3.8/site-packages (from tensorboard->nemo-toolkit[all]==1.18.1->VocalForge==0.1.1) (1.57.0)\n",
      "Requirement already satisfied: google-auth<3,>=1.6.3 in /home/rio/anaconda3/envs/VocalForge/lib/python3.8/site-packages (from tensorboard->nemo-toolkit[all]==1.18.1->VocalForge==0.1.1) (2.22.0)\n",
      "Requirement already satisfied: google-auth-oauthlib<1.1,>=0.5 in /home/rio/anaconda3/envs/VocalForge/lib/python3.8/site-packages (from tensorboard->nemo-toolkit[all]==1.18.1->VocalForge==0.1.1) (1.0.0)\n",
      "Requirement already satisfied: markdown>=2.6.8 in /home/rio/anaconda3/envs/VocalForge/lib/python3.8/site-packages (from tensorboard->nemo-toolkit[all]==1.18.1->VocalForge==0.1.1) (3.4.4)\n",
      "Requirement already satisfied: tensorboard-data-server<0.8.0,>=0.7.0 in /home/rio/anaconda3/envs/VocalForge/lib/python3.8/site-packages (from tensorboard->nemo-toolkit[all]==1.18.1->VocalForge==0.1.1) (0.7.1)\n",
      "Requirement already satisfied: werkzeug>=1.0.1 in /home/rio/anaconda3/envs/VocalForge/lib/python3.8/site-packages (from tensorboard->nemo-toolkit[all]==1.18.1->VocalForge==0.1.1) (2.3.7)\n",
      "Collecting plac (from texterrors->nemo-toolkit[all]==1.18.1->VocalForge==0.1.1)\n",
      "  Using cached plac-1.3.5-py2.py3-none-any.whl (22 kB)\n",
      "Requirement already satisfied: loguru in /home/rio/anaconda3/envs/VocalForge/lib/python3.8/site-packages (from texterrors->nemo-toolkit[all]==1.18.1->VocalForge==0.1.1) (0.7.0)\n",
      "Collecting termcolor (from texterrors->nemo-toolkit[all]==1.18.1->VocalForge==0.1.1)\n",
      "  Using cached termcolor-2.3.0-py3-none-any.whl (6.9 kB)\n",
      "Collecting Levenshtein (from texterrors->nemo-toolkit[all]==1.18.1->VocalForge==0.1.1)\n",
      "  Obtaining dependency information for Levenshtein from https://files.pythonhosted.org/packages/0b/66/0f66df5a5357aed9ff42684c571e590b86953fdf61cde1f5b9e26507ad10/Levenshtein-0.21.1-cp38-cp38-manylinux_2_17_x86_64.manylinux2014_x86_64.whl.metadata\n",
      "  Using cached Levenshtein-0.21.1-cp38-cp38-manylinux_2_17_x86_64.manylinux2014_x86_64.whl.metadata (3.4 kB)\n",
      "Collecting GitPython!=3.1.29,>=1.0.0 (from wandb->nemo-toolkit[all]==1.18.1->VocalForge==0.1.1)\n",
      "  Obtaining dependency information for GitPython!=3.1.29,>=1.0.0 from https://files.pythonhosted.org/packages/67/50/742c2fb60989b76ccf7302c7b1d9e26505d7054c24f08cc7ec187faaaea7/GitPython-3.1.32-py3-none-any.whl.metadata\n",
      "  Using cached GitPython-3.1.32-py3-none-any.whl.metadata (10.0 kB)\n",
      "Requirement already satisfied: psutil>=5.0.0 in /home/rio/anaconda3/envs/VocalForge/lib/python3.8/site-packages (from wandb->nemo-toolkit[all]==1.18.1->VocalForge==0.1.1) (5.9.0)\n",
      "Collecting sentry-sdk>=1.0.0 (from wandb->nemo-toolkit[all]==1.18.1->VocalForge==0.1.1)\n",
      "  Obtaining dependency information for sentry-sdk>=1.0.0 from https://files.pythonhosted.org/packages/86/bb/ecb87fd214d5bbade07edf2ecdd829cf346e5b552689d6228112c6517286/sentry_sdk-1.29.2-py2.py3-none-any.whl.metadata\n",
      "  Using cached sentry_sdk-1.29.2-py2.py3-none-any.whl.metadata (8.8 kB)\n",
      "Collecting docker-pycreds>=0.4.0 (from wandb->nemo-toolkit[all]==1.18.1->VocalForge==0.1.1)\n",
      "  Using cached docker_pycreds-0.4.0-py2.py3-none-any.whl (9.0 kB)\n",
      "Collecting pathtools (from wandb->nemo-toolkit[all]==1.18.1->VocalForge==0.1.1)\n",
      "  Using cached pathtools-0.1.2-py3-none-any.whl\n",
      "Collecting setproctitle (from wandb->nemo-toolkit[all]==1.18.1->VocalForge==0.1.1)\n",
      "  Using cached setproctitle-1.3.2-cp38-cp38-manylinux_2_5_x86_64.manylinux1_x86_64.manylinux_2_17_x86_64.manylinux2014_x86_64.whl (31 kB)\n",
      "Collecting jsonschema>=3.0 (from altair<6.0,>=4.2.0->gradio->nemo-toolkit[all]==1.18.1->VocalForge==0.1.1)\n",
      "  Obtaining dependency information for jsonschema>=3.0 from https://files.pythonhosted.org/packages/2b/ff/af59fd34bc4d7ac3e6e0cd1f3c10317d329b6c1aee179e8b24ad9a79fbac/jsonschema-4.19.0-py3-none-any.whl.metadata\n",
      "  Downloading jsonschema-4.19.0-py3-none-any.whl.metadata (8.2 kB)\n",
      "Collecting toolz (from altair<6.0,>=4.2.0->gradio->nemo-toolkit[all]==1.18.1->VocalForge==0.1.1)\n",
      "  Using cached toolz-0.12.0-py3-none-any.whl (55 kB)\n",
      "Requirement already satisfied: urllib3<1.27,>=1.25.4 in /home/rio/anaconda3/envs/VocalForge/lib/python3.8/site-packages (from botocore<1.32.0,>=1.31.35->boto3->nemo-toolkit[all]==1.18.1->VocalForge==0.1.1) (1.26.16)\n",
      "Requirement already satisfied: pycparser in /home/rio/anaconda3/envs/VocalForge/lib/python3.8/site-packages (from cffi>=1.0->soundfile->nemo-toolkit[all]==1.18.1->VocalForge==0.1.1) (2.21)\n",
      "Requirement already satisfied: itsdangerous>=2.1.2 in /home/rio/anaconda3/envs/VocalForge/lib/python3.8/site-packages (from Flask>=0.8->flask-restful->nemo-toolkit[all]==1.18.1->VocalForge==0.1.1) (2.1.2)\n",
      "INFO: pip is looking at multiple versions of flask to determine which version is compatible with other requirements. This could take a while.\n",
      "Collecting Flask>=0.8 (from flask-restful->nemo-toolkit[all]==1.18.1->VocalForge==0.1.1)\n",
      "  Using cached Flask-2.3.2-py3-none-any.whl (96 kB)\n",
      "  Using cached Flask-2.3.1-py3-none-any.whl (96 kB)\n",
      "  Using cached Flask-2.3.0-py3-none-any.whl (96 kB)\n",
      "  Using cached Flask-2.2.5-py3-none-any.whl (101 kB)\n",
      "Requirement already satisfied: aiohttp!=4.0.0a0,!=4.0.0a1 in /home/rio/anaconda3/envs/VocalForge/lib/python3.8/site-packages (from fsspec[http]>2021.06.0->pytorch-lightning<=1.9.4,>=1.9.0->nemo-toolkit[all]==1.18.1->VocalForge==0.1.1) (3.8.5)\n",
      "Collecting gitdb<5,>=4.0.1 (from GitPython!=3.1.29,>=1.0.0->wandb->nemo-toolkit[all]==1.18.1->VocalForge==0.1.1)\n",
      "  Using cached gitdb-4.0.10-py3-none-any.whl (62 kB)\n",
      "Requirement already satisfied: cachetools<6.0,>=2.0.0 in /home/rio/anaconda3/envs/VocalForge/lib/python3.8/site-packages (from google-auth<3,>=1.6.3->tensorboard->nemo-toolkit[all]==1.18.1->VocalForge==0.1.1) (5.3.1)\n",
      "Requirement already satisfied: pyasn1-modules>=0.2.1 in /home/rio/anaconda3/envs/VocalForge/lib/python3.8/site-packages (from google-auth<3,>=1.6.3->tensorboard->nemo-toolkit[all]==1.18.1->VocalForge==0.1.1) (0.3.0)\n",
      "Requirement already satisfied: rsa<5,>=3.1.4 in /home/rio/anaconda3/envs/VocalForge/lib/python3.8/site-packages (from google-auth<3,>=1.6.3->tensorboard->nemo-toolkit[all]==1.18.1->VocalForge==0.1.1) (4.9)\n",
      "Requirement already satisfied: requests-oauthlib>=0.7.0 in /home/rio/anaconda3/envs/VocalForge/lib/python3.8/site-packages (from google-auth-oauthlib<1.1,>=0.5->tensorboard->nemo-toolkit[all]==1.18.1->VocalForge==0.1.1) (1.3.1)\n",
      "Requirement already satisfied: backcall in /home/rio/anaconda3/envs/VocalForge/lib/python3.8/site-packages (from ipython>=6.1.0->ipywidgets->nemo-toolkit[all]==1.18.1->VocalForge==0.1.1) (0.2.0)\n",
      "Requirement already satisfied: jedi>=0.16 in /home/rio/anaconda3/envs/VocalForge/lib/python3.8/site-packages (from ipython>=6.1.0->ipywidgets->nemo-toolkit[all]==1.18.1->VocalForge==0.1.1) (0.19.0)\n",
      "Requirement already satisfied: matplotlib-inline in /home/rio/anaconda3/envs/VocalForge/lib/python3.8/site-packages (from ipython>=6.1.0->ipywidgets->nemo-toolkit[all]==1.18.1->VocalForge==0.1.1) (0.1.6)\n",
      "Requirement already satisfied: pickleshare in /home/rio/anaconda3/envs/VocalForge/lib/python3.8/site-packages (from ipython>=6.1.0->ipywidgets->nemo-toolkit[all]==1.18.1->VocalForge==0.1.1) (0.7.5)\n",
      "Requirement already satisfied: prompt-toolkit!=3.0.37,<3.1.0,>=3.0.30 in /home/rio/anaconda3/envs/VocalForge/lib/python3.8/site-packages (from ipython>=6.1.0->ipywidgets->nemo-toolkit[all]==1.18.1->VocalForge==0.1.1) (3.0.39)\n",
      "Requirement already satisfied: stack-data in /home/rio/anaconda3/envs/VocalForge/lib/python3.8/site-packages (from ipython>=6.1.0->ipywidgets->nemo-toolkit[all]==1.18.1->VocalForge==0.1.1) (0.6.2)\n",
      "Requirement already satisfied: pexpect>4.3 in /home/rio/anaconda3/envs/VocalForge/lib/python3.8/site-packages (from ipython>=6.1.0->ipywidgets->nemo-toolkit[all]==1.18.1->VocalForge==0.1.1) (4.8.0)\n",
      "Requirement already satisfied: platformdirs>=2.5.0 in /home/rio/anaconda3/envs/VocalForge/lib/python3.8/site-packages (from pooch>=1.0->librosa>=0.9.0->nemo-toolkit[all]==1.18.1->VocalForge==0.1.1) (3.10.0)\n",
      "Requirement already satisfied: typer[all]>=0.2.1 in /home/rio/anaconda3/envs/VocalForge/lib/python3.8/site-packages (from pyannote.database>=4.0.1->pyannote.metrics->nemo-toolkit[all]==1.18.1->VocalForge==0.1.1) (0.9.0)\n",
      "Collecting latexcodec>=1.0.4 (from pybtex>=0.24->sphinxcontrib-bibtex->nemo-toolkit[all]==1.18.1->VocalForge==0.1.1)\n",
      "  Using cached latexcodec-2.0.1-py2.py3-none-any.whl (18 kB)\n",
      "Requirement already satisfied: annotated-types>=0.4.0 in /home/rio/anaconda3/envs/VocalForge/lib/python3.8/site-packages (from pydantic>=1.9.1->inflect->nemo-toolkit[all]==1.18.1->VocalForge==0.1.1) (0.5.0)\n",
      "Requirement already satisfied: pydantic-core==2.4.0 in /home/rio/anaconda3/envs/VocalForge/lib/python3.8/site-packages (from pydantic>=1.9.1->inflect->nemo-toolkit[all]==1.18.1->VocalForge==0.1.1) (2.4.0)\n",
      "Requirement already satisfied: charset-normalizer<4,>=2 in /home/rio/anaconda3/envs/VocalForge/lib/python3.8/site-packages (from requests>=2.26.0->tiktoken==0.3.1->openai-whisper->VocalForge==0.1.1) (2.0.4)\n",
      "Requirement already satisfied: idna<4,>=2.5 in /home/rio/anaconda3/envs/VocalForge/lib/python3.8/site-packages (from requests>=2.26.0->tiktoken==0.3.1->openai-whisper->VocalForge==0.1.1) (3.4)\n",
      "Requirement already satisfied: certifi>=2017.4.17 in /home/rio/anaconda3/envs/VocalForge/lib/python3.8/site-packages (from requests>=2.26.0->tiktoken==0.3.1->openai-whisper->VocalForge==0.1.1) (2023.7.22)\n",
      "Requirement already satisfied: mpmath>=0.19 in /home/rio/anaconda3/envs/VocalForge/lib/python3.8/site-packages (from sympy->torch->nemo-toolkit[all]==1.18.1->VocalForge==0.1.1) (1.3.0)\n",
      "Requirement already satisfied: h11>=0.8 in /home/rio/anaconda3/envs/VocalForge/lib/python3.8/site-packages (from uvicorn>=0.14.0->gradio->nemo-toolkit[all]==1.18.1->VocalForge==0.1.1) (0.14.0)\n",
      "Requirement already satisfied: soupsieve>1.2 in /home/rio/anaconda3/envs/VocalForge/lib/python3.8/site-packages (from beautifulsoup4->gdown->nemo-toolkit[all]==1.18.1->VocalForge==0.1.1) (2.4.1)\n",
      "Requirement already satisfied: starlette<0.28.0,>=0.27.0 in /home/rio/anaconda3/envs/VocalForge/lib/python3.8/site-packages (from fastapi->gradio->nemo-toolkit[all]==1.18.1->VocalForge==0.1.1) (0.27.0)\n",
      "Collecting httpcore<0.18.0,>=0.15.0 (from httpx->gradio->nemo-toolkit[all]==1.18.1->VocalForge==0.1.1)\n",
      "  Obtaining dependency information for httpcore<0.18.0,>=0.15.0 from https://files.pythonhosted.org/packages/94/2c/2bde7ff8dd2064395555220cbf7cba79991172bf5315a07eb3ac7688d9f1/httpcore-0.17.3-py3-none-any.whl.metadata\n",
      "  Downloading httpcore-0.17.3-py3-none-any.whl.metadata (18 kB)\n",
      "Requirement already satisfied: sniffio in /home/rio/anaconda3/envs/VocalForge/lib/python3.8/site-packages (from httpx->gradio->nemo-toolkit[all]==1.18.1->VocalForge==0.1.1) (1.3.0)\n",
      "Requirement already satisfied: PySocks!=1.5.7,>=1.5.6 in /home/rio/anaconda3/envs/VocalForge/lib/python3.8/site-packages (from requests>=2.26.0->tiktoken==0.3.1->openai-whisper->VocalForge==0.1.1) (1.7.1)\n",
      "Requirement already satisfied: multidict<7.0,>=4.5 in /home/rio/anaconda3/envs/VocalForge/lib/python3.8/site-packages (from aiohttp!=4.0.0a0,!=4.0.0a1->fsspec[http]>2021.06.0->pytorch-lightning<=1.9.4,>=1.9.0->nemo-toolkit[all]==1.18.1->VocalForge==0.1.1) (6.0.4)\n",
      "Requirement already satisfied: async-timeout<5.0,>=4.0.0a3 in /home/rio/anaconda3/envs/VocalForge/lib/python3.8/site-packages (from aiohttp!=4.0.0a0,!=4.0.0a1->fsspec[http]>2021.06.0->pytorch-lightning<=1.9.4,>=1.9.0->nemo-toolkit[all]==1.18.1->VocalForge==0.1.1) (4.0.3)\n",
      "Requirement already satisfied: yarl<2.0,>=1.0 in /home/rio/anaconda3/envs/VocalForge/lib/python3.8/site-packages (from aiohttp!=4.0.0a0,!=4.0.0a1->fsspec[http]>2021.06.0->pytorch-lightning<=1.9.4,>=1.9.0->nemo-toolkit[all]==1.18.1->VocalForge==0.1.1) (1.9.2)\n",
      "Requirement already satisfied: frozenlist>=1.1.1 in /home/rio/anaconda3/envs/VocalForge/lib/python3.8/site-packages (from aiohttp!=4.0.0a0,!=4.0.0a1->fsspec[http]>2021.06.0->pytorch-lightning<=1.9.4,>=1.9.0->nemo-toolkit[all]==1.18.1->VocalForge==0.1.1) (1.4.0)\n",
      "Requirement already satisfied: aiosignal>=1.1.2 in /home/rio/anaconda3/envs/VocalForge/lib/python3.8/site-packages (from aiohttp!=4.0.0a0,!=4.0.0a1->fsspec[http]>2021.06.0->pytorch-lightning<=1.9.4,>=1.9.0->nemo-toolkit[all]==1.18.1->VocalForge==0.1.1) (1.3.1)\n",
      "Collecting smmap<6,>=3.0.1 (from gitdb<5,>=4.0.1->GitPython!=3.1.29,>=1.0.0->wandb->nemo-toolkit[all]==1.18.1->VocalForge==0.1.1)\n",
      "  Using cached smmap-5.0.0-py3-none-any.whl (24 kB)\n",
      "Requirement already satisfied: anyio<5.0,>=3.0 in /home/rio/anaconda3/envs/VocalForge/lib/python3.8/site-packages (from httpcore<0.18.0,>=0.15.0->httpx->gradio->nemo-toolkit[all]==1.18.1->VocalForge==0.1.1) (3.7.1)\n",
      "Requirement already satisfied: parso<0.9.0,>=0.8.3 in /home/rio/anaconda3/envs/VocalForge/lib/python3.8/site-packages (from jedi>=0.16->ipython>=6.1.0->ipywidgets->nemo-toolkit[all]==1.18.1->VocalForge==0.1.1) (0.8.3)\n",
      "Collecting jsonschema-specifications>=2023.03.6 (from jsonschema>=3.0->altair<6.0,>=4.2.0->gradio->nemo-toolkit[all]==1.18.1->VocalForge==0.1.1)\n",
      "  Obtaining dependency information for jsonschema-specifications>=2023.03.6 from https://files.pythonhosted.org/packages/1c/24/83349ac2189cc2435e84da3f69ba3c97314d3c0622628e55171c6798ed80/jsonschema_specifications-2023.7.1-py3-none-any.whl.metadata\n",
      "  Downloading jsonschema_specifications-2023.7.1-py3-none-any.whl.metadata (2.8 kB)\n",
      "Collecting pkgutil-resolve-name>=1.3.10 (from jsonschema>=3.0->altair<6.0,>=4.2.0->gradio->nemo-toolkit[all]==1.18.1->VocalForge==0.1.1)\n",
      "  Using cached pkgutil_resolve_name-1.3.10-py3-none-any.whl (4.7 kB)\n",
      "Collecting referencing>=0.28.4 (from jsonschema>=3.0->altair<6.0,>=4.2.0->gradio->nemo-toolkit[all]==1.18.1->VocalForge==0.1.1)\n",
      "  Obtaining dependency information for referencing>=0.28.4 from https://files.pythonhosted.org/packages/be/8e/56d6f1e2d591f4d6cbcba446cac4a1b0dc4f584537e2071d9bcee8eeab6b/referencing-0.30.2-py3-none-any.whl.metadata\n",
      "  Downloading referencing-0.30.2-py3-none-any.whl.metadata (2.6 kB)\n",
      "Collecting rpds-py>=0.7.1 (from jsonschema>=3.0->altair<6.0,>=4.2.0->gradio->nemo-toolkit[all]==1.18.1->VocalForge==0.1.1)\n",
      "  Obtaining dependency information for rpds-py>=0.7.1 from https://files.pythonhosted.org/packages/7f/19/aa000240fa9343858a967b08037792695a66560ce5054528198190ce291b/rpds_py-0.9.2-cp38-cp38-manylinux_2_17_x86_64.manylinux2014_x86_64.whl.metadata\n",
      "  Downloading rpds_py-0.9.2-cp38-cp38-manylinux_2_17_x86_64.manylinux2014_x86_64.whl.metadata (3.7 kB)\n",
      "Requirement already satisfied: ptyprocess>=0.5 in /home/rio/anaconda3/envs/VocalForge/lib/python3.8/site-packages (from pexpect>4.3->ipython>=6.1.0->ipywidgets->nemo-toolkit[all]==1.18.1->VocalForge==0.1.1) (0.7.0)\n",
      "Requirement already satisfied: pyasn1<0.6.0,>=0.4.6 in /home/rio/anaconda3/envs/VocalForge/lib/python3.8/site-packages (from pyasn1-modules>=0.2.1->google-auth<3,>=1.6.3->tensorboard->nemo-toolkit[all]==1.18.1->VocalForge==0.1.1) (0.5.0)\n",
      "Requirement already satisfied: oauthlib>=3.0.0 in /home/rio/anaconda3/envs/VocalForge/lib/python3.8/site-packages (from requests-oauthlib>=0.7.0->google-auth-oauthlib<1.1,>=0.5->tensorboard->nemo-toolkit[all]==1.18.1->VocalForge==0.1.1) (3.2.2)\n",
      "Requirement already satisfied: shellingham<2.0.0,>=1.3.0 in /home/rio/anaconda3/envs/VocalForge/lib/python3.8/site-packages (from typer[all]>=0.2.1->pyannote.database>=4.0.1->pyannote.metrics->nemo-toolkit[all]==1.18.1->VocalForge==0.1.1) (1.5.3)\n",
      "Requirement already satisfied: rich<14.0.0,>=10.11.0 in /home/rio/anaconda3/envs/VocalForge/lib/python3.8/site-packages (from typer[all]>=0.2.1->pyannote.database>=4.0.1->pyannote.metrics->nemo-toolkit[all]==1.18.1->VocalForge==0.1.1) (13.5.2)\n",
      "Requirement already satisfied: executing>=1.2.0 in /home/rio/anaconda3/envs/VocalForge/lib/python3.8/site-packages (from stack-data->ipython>=6.1.0->ipywidgets->nemo-toolkit[all]==1.18.1->VocalForge==0.1.1) (1.2.0)\n",
      "Requirement already satisfied: asttokens>=2.1.0 in /home/rio/anaconda3/envs/VocalForge/lib/python3.8/site-packages (from stack-data->ipython>=6.1.0->ipywidgets->nemo-toolkit[all]==1.18.1->VocalForge==0.1.1) (2.2.1)\n",
      "Requirement already satisfied: pure-eval in /home/rio/anaconda3/envs/VocalForge/lib/python3.8/site-packages (from stack-data->ipython>=6.1.0->ipywidgets->nemo-toolkit[all]==1.18.1->VocalForge==0.1.1) (0.2.2)\n",
      "Requirement already satisfied: markdown-it-py>=2.2.0 in /home/rio/anaconda3/envs/VocalForge/lib/python3.8/site-packages (from rich<14.0.0,>=10.11.0->typer[all]>=0.2.1->pyannote.database>=4.0.1->pyannote.metrics->nemo-toolkit[all]==1.18.1->VocalForge==0.1.1) (3.0.0)\n",
      "Requirement already satisfied: mdurl~=0.1 in /home/rio/anaconda3/envs/VocalForge/lib/python3.8/site-packages (from markdown-it-py>=2.2.0->rich<14.0.0,>=10.11.0->typer[all]>=0.2.1->pyannote.database>=4.0.1->pyannote.metrics->nemo-toolkit[all]==1.18.1->VocalForge==0.1.1) (0.1.2)\n",
      "Using cached megatron_core-0.1.0-py3-none-any.whl (44 kB)\n",
      "Using cached boto3-1.28.35-py3-none-any.whl (135 kB)\n",
      "Using cached Flask_RESTful-0.3.10-py2.py3-none-any.whl (26 kB)\n",
      "Using cached inflect-7.0.0-py3-none-any.whl (34 kB)\n",
      "Downloading gradio-3.41.2-py3-none-any.whl (20.1 MB)\n",
      "\u001b[2K   \u001b[90m━━━━━━━━━━━━━━━━━━━━━━━━━━━━━━━━━━━━━━━━\u001b[0m \u001b[32m20.1/20.1 MB\u001b[0m \u001b[31m84.8 MB/s\u001b[0m eta \u001b[36m0:00:00\u001b[0m:00:01\u001b[0m00:01\u001b[0m\n",
      "\u001b[?25hDownloading gradio_client-0.5.0-py3-none-any.whl (298 kB)\n",
      "\u001b[2K   \u001b[90m━━━━━━━━━━━━━━━━━━━━━━━━━━━━━━━━━━━━━━━\u001b[0m \u001b[32m298.2/298.2 kB\u001b[0m \u001b[31m119.8 MB/s\u001b[0m eta \u001b[36m0:00:00\u001b[0m\n",
      "\u001b[?25hUsing cached h5py-3.9.0-cp38-cp38-manylinux_2_17_x86_64.manylinux2014_x86_64.whl (4.8 MB)\n",
      "Using cached ijson-3.2.3-cp38-cp38-manylinux_2_17_x86_64.manylinux2014_x86_64.whl (113 kB)\n",
      "Using cached ipywidgets-8.1.0-py3-none-any.whl (139 kB)\n",
      "Using cached kornia-0.7.0-py2.py3-none-any.whl (705 kB)\n",
      "Using cached marshmallow-3.20.1-py3-none-any.whl (49 kB)\n",
      "Using cached nemo_text_processing-0.2.0rc0-py3-none-any.whl (2.4 MB)\n",
      "Using cached pypinyin-0.49.0-py2.py3-none-any.whl (1.4 MB)\n",
      "Using cached pypinyin_dict-0.6.0-py2.py3-none-any.whl (9.5 MB)\n",
      "Using cached pytest-7.4.0-py3-none-any.whl (323 kB)\n",
      "Using cached sphinx-7.1.2-py3-none-any.whl (3.2 MB)\n",
      "Using cached sphinxcontrib_bibtex-2.6.0-py3-none-any.whl (40 kB)\n",
      "Using cached wandb-0.15.8-py3-none-any.whl (2.1 MB)\n",
      "Downloading aiofiles-23.2.1-py3-none-any.whl (15 kB)\n",
      "Using cached altair-5.0.1-py3-none-any.whl (471 kB)\n",
      "Using cached botocore-1.31.35-py3-none-any.whl (11.1 MB)\n",
      "Using cached docutils-0.20.1-py3-none-any.whl (572 kB)\n",
      "Using cached GitPython-3.1.32-py3-none-any.whl (188 kB)\n",
      "Using cached jupyterlab_widgets-3.0.8-py3-none-any.whl (214 kB)\n",
      "Downloading orjson-3.9.5-cp38-cp38-manylinux_2_17_x86_64.manylinux2014_x86_64.whl (139 kB)\n",
      "\u001b[2K   \u001b[90m━━━━━━━━━━━━━━━━━━━━━━━━━━━━━━━━━━━━━━━━\u001b[0m \u001b[32m139.6/139.6 kB\u001b[0m \u001b[31m76.4 MB/s\u001b[0m eta \u001b[36m0:00:00\u001b[0m\n",
      "\u001b[?25hUsing cached pathspec-0.11.2-py3-none-any.whl (29 kB)\n",
      "Using cached pluggy-1.3.0-py3-none-any.whl (18 kB)\n",
      "Using cached pybind11-2.11.1-py3-none-any.whl (227 kB)\n",
      "Using cached pybtex_docutils-1.0.3-py3-none-any.whl (6.4 kB)\n",
      "Using cached s3transfer-0.6.2-py3-none-any.whl (79 kB)\n",
      "Using cached sentry_sdk-1.29.2-py2.py3-none-any.whl (215 kB)\n",
      "Using cached typed_ast-1.5.5-cp38-cp38-manylinux_2_17_x86_64.manylinux2014_x86_64.whl (840 kB)\n",
      "Using cached widgetsnbextension-4.0.8-py3-none-any.whl (2.3 MB)\n",
      "Using cached httpx-0.24.1-py3-none-any.whl (75 kB)\n",
      "Using cached Levenshtein-0.21.1-cp38-cp38-manylinux_2_17_x86_64.manylinux2014_x86_64.whl (172 kB)\n",
      "Using cached lxml-4.9.3-cp38-cp38-manylinux_2_28_x86_64.whl (8.0 MB)\n",
      "Using cached httpcore-0.17.3-py3-none-any.whl (74 kB)\n",
      "Downloading jsonschema-4.19.0-py3-none-any.whl (83 kB)\n",
      "\u001b[2K   \u001b[90m━━━━━━━━━━━━━━━━━━━━━━━━━━━━━━━━━━━━━━━━\u001b[0m \u001b[32m83.4/83.4 kB\u001b[0m \u001b[31m48.3 MB/s\u001b[0m eta \u001b[36m0:00:00\u001b[0m\n",
      "\u001b[?25hDownloading jsonschema_specifications-2023.7.1-py3-none-any.whl (17 kB)\n",
      "Downloading referencing-0.30.2-py3-none-any.whl (25 kB)\n",
      "Downloading rpds_py-0.9.2-cp38-cp38-manylinux_2_17_x86_64.manylinux2014_x86_64.whl (1.2 MB)\n",
      "\u001b[2K   \u001b[90m━━━━━━━━━━━━━━━━━━━━━━━━━━━━━━━━━━━━━━━━\u001b[0m \u001b[32m1.2/1.2 MB\u001b[0m \u001b[31m107.2 MB/s\u001b[0m eta \u001b[36m0:00:00\u001b[0m\n",
      "\u001b[?25hBuilding wheels for collected packages: VocalForge, ffmpy\n",
      "  Building wheel for VocalForge (pyproject.toml) ... \u001b[?25ldone\n",
      "\u001b[?25h  Created wheel for VocalForge: filename=VocalForge-0.1.1-py3-none-any.whl size=33124 sha256=0b5d314e6a5bf7f01f0943e943717a45abea59c899bb670719ef210afbfda0e5\n",
      "  Stored in directory: /tmp/pip-ephem-wheel-cache-74b69c04/wheels/8c/b0/93/933b0b32ce4ff9262545122e9a3f160470b524b5e7e2282087\n",
      "  Building wheel for ffmpy (setup.py) ... \u001b[?25ldone\n",
      "\u001b[?25h  Created wheel for ffmpy: filename=ffmpy-0.3.1-py3-none-any.whl size=5580 sha256=db4ae851cbb36b90acfd36a9ac8bffd7da224587242a7f1239cabf9722afa16c\n",
      "  Stored in directory: /home/rio/.cache/pip/wheels/75/a3/1a/2f3f90b9a4eb0408109ae1b5bae01efbdf8ab4ef98797433e4\n",
      "Successfully built VocalForge ffmpy\n",
      "Installing collected packages: snowballstemmer, progress, plac, pathtools, pangu, opencc, mecab-python3, jieba, ipadic, ijson, ffmpy, faiss-cpu, distance, braceexpand, aniso8601, widgetsnbextension, webdataset, typed-ast, toolz, tomli, toml, textdistance, termcolor, sphinxcontrib-serializinghtml, sphinxcontrib-qthelp, sphinxcontrib-jsmath, sphinxcontrib-htmlhelp, sphinxcontrib-devhelp, sphinxcontrib-applehelp, sox, smmap, setproctitle, sentry-sdk, semantic-version, rpds-py, rapidfuzz, pyyaml, pytest-runner, pypinyin, pynini, pybind11, portalocker, pluggy, pkgutil-resolve-name, pathspec, parameterized, orjson, marshmallow, lxml, latexcodec, kaldiio, kaldi-python-io, jupyterlab-widgets, jmespath, isort, iniconfig, imagesize, h5py, ftfy, editdistance, docutils, docker-pycreds, click, cdifflib, babel, attrdict, alabaster, aiofiles, youtokentome, sphinx, sacremoses, sacrebleu, referencing, pytest, pypinyin-dict, pybtex, omegaconf, nltk, Levenshtein, jiwer, httpcore, gitdb, Flask, fasttext, botocore, black, texterrors, s3transfer, rouge-score, pybtex-docutils, jsonschema-specifications, inflect, hydra-core, httpx, GitPython, gdown, flask-restful, wandb, VocalForge, sphinxcontrib-bibtex, nemo-text-processing, jsonschema, ipywidgets, gradio-client, g2p-en, boto3, altair, gradio, sentence-transformers, pytorch-lightning, megatron-core, kornia\n",
      "  Attempting uninstall: pyyaml\n",
      "    Found existing installation: PyYAML 6.0.1\n",
      "    Uninstalling PyYAML-6.0.1:\n",
      "      Successfully uninstalled PyYAML-6.0.1\n",
      "  Attempting uninstall: click\n",
      "    Found existing installation: click 8.1.7\n",
      "    Uninstalling click-8.1.7:\n",
      "      Successfully uninstalled click-8.1.7\n",
      "  Attempting uninstall: omegaconf\n",
      "    Found existing installation: omegaconf 2.3.0\n",
      "    Uninstalling omegaconf-2.3.0:\n",
      "      Successfully uninstalled omegaconf-2.3.0\n",
      "  Attempting uninstall: hydra-core\n",
      "    Found existing installation: hydra-core 1.3.2\n",
      "    Uninstalling hydra-core-1.3.2:\n",
      "      Successfully uninstalled hydra-core-1.3.2\n",
      "  Attempting uninstall: VocalForge\n",
      "    Found existing installation: VocalForge 0.1.1\n",
      "    Uninstalling VocalForge-0.1.1:\n",
      "      Successfully uninstalled VocalForge-0.1.1\n",
      "  Attempting uninstall: pytorch-lightning\n",
      "    Found existing installation: pytorch-lightning 2.0.7\n",
      "    Uninstalling pytorch-lightning-2.0.7:\n",
      "      Successfully uninstalled pytorch-lightning-2.0.7\n",
      "Successfully installed Flask-2.2.5 GitPython-3.1.32 Levenshtein-0.21.1 VocalForge-0.1.1 aiofiles-23.2.1 alabaster-0.7.13 altair-5.0.1 aniso8601-9.0.1 attrdict-2.0.1 babel-2.12.1 black-19.10b0 boto3-1.28.35 botocore-1.31.35 braceexpand-0.1.7 cdifflib-1.2.6 click-8.0.2 distance-0.1.3 docker-pycreds-0.4.0 docutils-0.20.1 editdistance-0.6.2 faiss-cpu-1.7.4 fasttext-0.9.2 ffmpy-0.3.1 flask-restful-0.3.10 ftfy-6.1.1 g2p-en-2.1.0 gdown-4.7.1 gitdb-4.0.10 gradio-3.41.2 gradio-client-0.5.0 h5py-3.9.0 httpcore-0.17.3 httpx-0.24.1 hydra-core-1.2.0 ijson-3.2.3 imagesize-1.4.1 inflect-7.0.0 iniconfig-2.0.0 ipadic-1.0.0 ipywidgets-8.1.0 isort-5.12.0 jieba-0.42.1 jiwer-2.5.2 jmespath-1.0.1 jsonschema-4.19.0 jsonschema-specifications-2023.7.1 jupyterlab-widgets-3.0.8 kaldi-python-io-1.2.2 kaldiio-2.18.0 kornia-0.7.0 latexcodec-2.0.1 lxml-4.9.3 marshmallow-3.20.1 mecab-python3-1.0.5 megatron-core-0.1.0 nemo-text-processing-0.2.0rc0 nltk-3.8.1 omegaconf-2.2.3 opencc-1.1.6 orjson-3.9.5 pangu-4.0.6.1 parameterized-0.9.0 pathspec-0.11.2 pathtools-0.1.2 pkgutil-resolve-name-1.3.10 plac-1.3.5 pluggy-1.3.0 portalocker-2.7.0 progress-1.6 pybind11-2.11.1 pybtex-0.24.0 pybtex-docutils-1.0.3 pynini-2.1.5 pypinyin-0.49.0 pypinyin-dict-0.6.0 pytest-7.4.0 pytest-runner-6.0.0 pytorch-lightning-1.9.4 pyyaml-5.4.1 rapidfuzz-2.13.7 referencing-0.30.2 rouge-score-0.1.2 rpds-py-0.9.2 s3transfer-0.6.2 sacrebleu-2.3.1 sacremoses-0.0.53 semantic-version-2.10.0 sentence-transformers-2.2.2 sentry-sdk-1.29.2 setproctitle-1.3.2 smmap-5.0.0 snowballstemmer-2.2.0 sox-1.4.1 sphinx-7.1.2 sphinxcontrib-applehelp-1.0.4 sphinxcontrib-bibtex-2.6.0 sphinxcontrib-devhelp-1.0.2 sphinxcontrib-htmlhelp-2.0.1 sphinxcontrib-jsmath-1.0.1 sphinxcontrib-qthelp-1.0.3 sphinxcontrib-serializinghtml-1.1.5 termcolor-2.3.0 textdistance-4.5.0 texterrors-0.4.4 toml-0.10.2 tomli-2.0.1 toolz-0.12.0 typed-ast-1.5.5 wandb-0.15.8 webdataset-0.1.62 widgetsnbextension-4.0.8 youtokentome-1.0.6\n"
     ]
    }
   ],
   "source": [
    "#this might take a while\n",
    "%pip install VocalForge[text]"
   ]
  },
  {
   "cell_type": "code",
   "execution_count": 2,
   "metadata": {},
   "outputs": [
    {
     "name": "stderr",
     "output_type": "stream",
     "text": [
      "[NeMo W 2023-08-26 19:55:18 optimizers:54] Apex was not found. Using the lamb or fused_adam optimizer will error out.\n",
      "[NeMo W 2023-08-26 19:55:18 experimental:27] Module <class 'nemo.collections.asr.modules.audio_modules.SpectrogramToMultichannelFeatures'> is experimental, not ready for production and is not fully supported. Use at your own risk.\n"
     ]
    }
   ],
   "source": [
    "from VocalForge.text.text_utils import create_core_folders\n",
    "\n",
    "root_path = Path.cwd()\n",
    "work_text_path = root_path / 'work' / 'text'\n",
    "\n",
    "folder_names = ['Input_Audio', 'Transcription', 'Normalized', 'Segments', 'Sliced_Audio', 'Dataset']\n",
    "\n",
    "create_core_folders(folder_names, workdir=str(work_text_path))\n"
   ]
  },
  {
   "cell_type": "code",
   "execution_count": 3,
   "metadata": {},
   "outputs": [],
   "source": [
    "from torch import cuda\n",
    "cuda.empty_cache()"
   ]
  },
  {
   "attachments": {},
   "cell_type": "markdown",
   "metadata": {},
   "source": [
    "Make sure to put your audio in the 'Input_Audio' folder at this point!"
   ]
  },
  {
   "attachments": {},
   "cell_type": "markdown",
   "metadata": {},
   "source": [
    "### Transcription"
   ]
  },
  {
   "attachments": {},
   "cell_type": "markdown",
   "metadata": {},
   "source": [
    "Now all the sitting around is done, we can finally get to...pushing a button and then waiting a little while longer! Welcome to AI. There are a few things we can do however before pressing the play button to make our process a little bit better."
   ]
  },
  {
   "attachments": {},
   "cell_type": "markdown",
   "metadata": {},
   "source": [
    "First, let's talk models. Whisper can use models of varying size. Personally, I'd go with the largest model you can get your grubby hands on, which depends on the VRAM your GPU has. `large` requires ~10gb, while `medium` and `small` require 5GB and 2GB respectively.  \n",
    "\n",
    "The other thing to take note of is the prompt. This allows us to guide the diction Whisper will include in the transcription. For instance, if the speaker(s) stutter or use filler words frequently, and our goal is to have as accurate of a transcription as possible, we can include an example of that (as seen below). This also works on slang that isn't in the standard lexicon. "
   ]
  },
  {
   "cell_type": "code",
   "execution_count": 4,
   "metadata": {},
   "outputs": [],
   "source": [
    "from VocalForge.text import Transcribe\n",
    "\n",
    "transcriber = Transcribe(\n",
    "    input_dir=str(work_text_path / 'Input_Audio'),\n",
    "    output_dir=str(work_text_path / 'Transcription'),\n",
    "    model='small',\n",
    "    prompt=\"uh, um, I...I think that what, what you're saying is terrible, mhm. Ya'know?\",\n",
    "    do_write=True\n",
    ")"
   ]
  },
  {
   "cell_type": "code",
   "execution_count": null,
   "metadata": {},
   "outputs": [],
   "source": [
    "transcriber.run()"
   ]
  },
  {
   "attachments": {},
   "cell_type": "markdown",
   "metadata": {},
   "source": [
    "### Normalization"
   ]
  },
  {
   "attachments": {},
   "cell_type": "markdown",
   "metadata": {},
   "source": [
    "Ok, so this one is pretty straightforward 🙌 Still some things to know:\n",
    "\n",
    "`max_length` and `min_length` are pretty self explanatory. The only thing to note is that `min_length` is the minimum length of the utterance after normalization. This is to prevent the utterance from being too short, which can cause issues with the model.\n",
    "\n",
    "`lang` can be changed to any language supported by en, es, ru, cn, and probably more. This will change the normalization process to be more accurate to the language and its phonetics.\n",
    "\n",
    "`model` can be changed pending a model that is an upgrade from the current one or to better fit your language. The list can be found [here](https://catalog.ngc.nvidia.com/models)"
   ]
  },
  {
   "cell_type": "code",
   "execution_count": 13,
   "metadata": {},
   "outputs": [],
   "source": [
    "from VocalForge.text import NormalizeText\n",
    "\n",
    "normalizer = NormalizeText(\n",
    "    input_dir=str(work_text_path / 'Transcription'),\n",
    "    output_dir=str(work_text_path / 'Normalized'),\n",
    "    audio_dir=str(work_text_path / 'Input_Audio'),\n",
    "    max_length=25,\n",
    "    min_length=5,\n",
    ")"
   ]
  },
  {
   "cell_type": "code",
   "execution_count": 14,
   "metadata": {},
   "outputs": [
    {
     "name": "stdout",
     "output_type": "stream",
     "text": [
      "Splitting text in /home/rio/Desktop/VocalForgeDev/VocalForge/work/text/Transcription/DATA3.txt into sentences.\n",
      "Using NeMo normalization tool...\n"
     ]
    },
    {
     "name": "stderr",
     "output_type": "stream",
     "text": [
      "100%|██████████| 100/100 [00:01<00:00, 59.68it/s]\n",
      " 27%|██▋       | 27/100 [00:02<00:10,  6.75it/s]"
     ]
    },
    {
     "name": "stdout",
     "output_type": "stream",
     "text": [
      "WARNING! Your input is too long and could take a long time to normalize.Use split_text_into_sentences() to make the input shorter and then call normalize_list().\n"
     ]
    },
    {
     "name": "stderr",
     "output_type": "stream",
     "text": [
      "100%|██████████| 100/100 [00:06<00:00, 16.66it/s]\n",
      "100%|██████████| 21/21 [00:00<00:00, 30.91it/s]\n"
     ]
    },
    {
     "name": "stdout",
     "output_type": "stream",
     "text": [
      "/home/rio/Desktop/VocalForgeDev/VocalForge/work/text/Normalized/DATA3/DATA3\n",
      "/home/rio/Desktop/VocalForgeDev/VocalForge/work/text/Normalized/DATA3/DATA3_with_punct_normalized\n",
      "/home/rio/Desktop/VocalForgeDev/VocalForge/work/text/Normalized/DATA3/DATA3_with_punct\n"
     ]
    }
   ],
   "source": [
    "normalizer.run()"
   ]
  },
  {
   "attachments": {},
   "cell_type": "markdown",
   "metadata": {},
   "source": [
    "### Segmentation"
   ]
  },
  {
   "attachments": {},
   "cell_type": "markdown",
   "metadata": {},
   "source": [
    "Time to align the text and audio! Using another NVIDIA ASR model, we can generate timestamps for each utterance. There's not much to say here, but the `window_size` may be changed based on the length of each audio file, as too small a window size can hinder the performance of the model."
   ]
  },
  {
   "cell_type": "code",
   "execution_count": null,
   "metadata": {},
   "outputs": [],
   "source": [
    "from VocalForge.text import Segment\n",
    "\n",
    "segmenter = Segment(\n",
    "    input_dir=str(work_text_path / 'Normalized'),\n",
    "    output_dir=str(work_text_path / 'Segments'),\n",
    ")"
   ]
  },
  {
   "cell_type": "code",
   "execution_count": 3,
   "metadata": {},
   "outputs": [
    {
     "name": "stdout",
     "output_type": "stream",
     "text": [
      "/home/rio/Desktop/VocalForgeDev/VocalForge/work/text/Normalized/DATA3/DATA3.wav\n"
     ]
    },
    {
     "data": {
      "application/vnd.jupyter.widget-view+json": {
       "model_id": "dd569d2e1a7f441a8d73ba390c9e833a",
       "version_major": 2,
       "version_minor": 0
      },
      "text/plain": [
       "Transcribing:   0%|          | 0/1 [00:00<?, ?it/s]"
      ]
     },
     "metadata": {},
     "output_type": "display_data"
    },
    {
     "name": "stderr",
     "output_type": "stream",
     "text": [
      "100%|██████████| 221/221 [00:00<00:00, 4838.45it/s]"
     ]
    },
    {
     "name": "stdout",
     "output_type": "stream",
     "text": [
      "average segmentation loss: -0.8618766769169445\n"
     ]
    },
    {
     "name": "stderr",
     "output_type": "stream",
     "text": [
      "\n"
     ]
    }
   ],
   "source": [
    "segmenter.run()"
   ]
  },
  {
   "attachments": {},
   "cell_type": "markdown",
   "metadata": {},
   "source": [
    "Now that we have these segments, things won't be perfect. Theres some things we can do to make it better, such as padding and offsets. I made a little function to help with this.\n",
    "\n",
    "`threshold` is the confidence level that the segment must reach in order to be included in the final dataset. The closer to 0, the more confident the model is of the segment timing to be included. Feel free to change this around to your liking (it won't affect the dataset, just the previews)\n",
    "\n",
    "This will iterate through each file, prompting you to input an offset and padding value. Type in the values and press enter. The function will then display an audio clip with the specified offset and padding. Try to find the best values for each file. Once you have, type \"stop\" and it will move on to the next file.\n"
   ]
  },
  {
   "cell_type": "code",
   "execution_count": 4,
   "metadata": {},
   "outputs": [],
   "source": [
    "import scipy.io.wavfile as wav\n",
    "import IPython.display as ipd\n",
    "threshold = 0.75\n",
    "\n",
    "def test_offset_padding(alignment_file: str):\n",
    "    offset = 0\n",
    "    padding = 0\n",
    "    alignment_path = Path(alignment_file)\n",
    "    if not alignment_path.exists():\n",
    "        raise ValueError(f\"{alignment_file} not found\")\n",
    "\n",
    "    print(f\"Reading {alignment_file}\")\n",
    "    with alignment_path.open(\"r\") as f:\n",
    "        sample = [next(f) for _ in range(10)]\n",
    "        offset = input('Input offset (type \"stop\" to end): ')\n",
    "        padding = input(\"Input padding: \")\n",
    "        padding = float(padding)\n",
    "\n",
    "        while True:\n",
    "            print(f\"offset: {offset}, padding: {padding}\")\n",
    "            for line in sample:\n",
    "                line = line.split(\"|\")\n",
    "                if len(line) == 1:\n",
    "                    audio_file = line[0].strip()\n",
    "                    continue\n",
    "                text = line[2]\n",
    "                line = line[0].split()\n",
    "                sampling_rate, signal = wav.read(audio_file)\n",
    "                if float(line[2]) < -threshold:\n",
    "                    continue\n",
    "                segment = [\n",
    "                    float(line[0]) + float(offset) + padding,\n",
    "                    float(line[1]) + float(offset) - padding,\n",
    "                ]\n",
    "                if float(line[0]) + float(offset) < 0:\n",
    "                    segment[0] = 0\n",
    "                st, end = segment\n",
    "                audio = signal[round(st * sampling_rate) : round(end * sampling_rate)]\n",
    "                print(f\"loss: {line[2]}\")\n",
    "                print(f\"sample text: {text}\")\n",
    "                ipd.display(ipd.Audio(audio, rate=sampling_rate))\n",
    "            previous_offset = offset\n",
    "            offset = input('Input offset (type \"stop\" to end): ')\n",
    "            if offset == \"stop\":\n",
    "                offset = previous_offset\n",
    "                print(\n",
    "                    f\"final values for {alignment_file}: offset: {offset}, padding: {padding}\"\n",
    "                )\n",
    "                break\n",
    "            padding = float(input(\"Input padding: \"))\n",
    "        return offset, padding\n"
   ]
  },
  {
   "cell_type": "code",
   "execution_count": 3,
   "metadata": {},
   "outputs": [
    {
     "ename": "NameError",
     "evalue": "name 'test_offset_padding' is not defined",
     "output_type": "error",
     "traceback": [
      "\u001b[0;31m---------------------------------------------------------------------------\u001b[0m",
      "\u001b[0;31mNameError\u001b[0m                                 Traceback (most recent call last)",
      "Cell \u001b[0;32mIn[3], line 7\u001b[0m\n\u001b[1;32m      5\u001b[0m \u001b[39mfor\u001b[39;00m file \u001b[39min\u001b[39;00m get_files(segment_dir, ext\u001b[39m=\u001b[39m\u001b[39m'\u001b[39m\u001b[39m.txt\u001b[39m\u001b[39m'\u001b[39m):\n\u001b[1;32m      6\u001b[0m     file_dir \u001b[39m=\u001b[39m os\u001b[39m.\u001b[39mpath\u001b[39m.\u001b[39mjoin(segment_dir, file)\n\u001b[0;32m----> 7\u001b[0m     offset, padding \u001b[39m=\u001b[39m test_offset_padding(alignment_file\u001b[39m=\u001b[39mfile_dir)\n\u001b[1;32m      8\u001b[0m     offsets\u001b[39m.\u001b[39mappend(offset)\n\u001b[1;32m      9\u001b[0m     paddings\u001b[39m.\u001b[39mappend(padding)\n",
      "\u001b[0;31mNameError\u001b[0m: name 'test_offset_padding' is not defined"
     ]
    }
   ],
   "source": [
    "from VocalForge.text import get_files\n",
    "\n",
    "offsets = []\n",
    "paddings = []\n",
    "work_text_path = Path.cwd() / 'work' / 'text'\n",
    "segment_dir = work_text_path / 'Segments'\n",
    "\n",
    "for file in get_files(str(segment_dir), ext='.txt'):\n",
    "    offset, padding = test_offset_padding(alignment_file=str(segment_dir / file))\n",
    "    offsets.append(offset)\n",
    "    paddings.append(padding)"
   ]
  },
  {
   "attachments": {},
   "cell_type": "markdown",
   "metadata": {},
   "source": [
    "### Splitting Audio"
   ]
  },
  {
   "attachments": {},
   "cell_type": "markdown",
   "metadata": {},
   "source": [
    "We can now move onto cutting the audio files. Passing along the padding and offset values, alongwith the confidence threshold and max length each split audio file (in s), we can now cut the audio files into segments."
   ]
  },
  {
   "cell_type": "code",
   "execution_count": 5,
   "metadata": {},
   "outputs": [],
   "source": [
    "from VocalForge.text.split_audio import SplitAudio\n",
    "\n",
    "threshold = 0.6\n",
    "max_duration = 20\n",
    "\n",
    "split = SplitAudio(\n",
    "    input_dir=str(segment_dir),\n",
    "    output_dir=str(work_text_path / 'Sliced_Audio'),\n",
    "    threshold=threshold,\n",
    "    offsets=offsets,\n",
    "    paddings=paddings,\n",
    ")"
   ]
  },
  {
   "cell_type": "code",
   "execution_count": 12,
   "metadata": {},
   "outputs": [
    {
     "name": "stdout",
     "output_type": "stream",
     "text": [
      "Original duration  : 31min\n",
      "High score segments: 12min (39%)\n",
      "Low score segments : 9min (30%)\n"
     ]
    }
   ],
   "source": [
    "split.run()"
   ]
  },
  {
   "attachments": {},
   "cell_type": "markdown",
   "metadata": {},
   "source": [
    "### Dataset Creation"
   ]
  },
  {
   "attachments": {},
   "cell_type": "markdown",
   "metadata": {},
   "source": [
    "Almost done! This step essentially combines the audio we just split, alongwith with the text normalization we did earlier. The product of this will be a folder containing the audio files and a metadata file that contains the normalized text and the name of the corresponding audio file.\n",
    "\n",
    "Note that currently it will only export as a LJSpeech format, but it can be easily modified to export in any format."
   ]
  },
  {
   "cell_type": "code",
   "execution_count": 8,
   "metadata": {},
   "outputs": [],
   "source": [
    "from VocalForge.text.create_dataset import GenerateDataset\n",
    "\n",
    "work_text_path = Path.cwd() / 'work' / 'text'\n",
    "segment_dir = work_text_path / 'Segments'\n",
    "threshold = 0.6\n",
    "\n",
    "dataset = GenerateDataset(\n",
    "    segment_dir=str(segment_dir),\n",
    "    sliced_aud_dir=str(work_text_path / 'Sliced_Audio'),\n",
    "    output_dir=str(work_text_path / 'Dataset'),\n",
    "    threshold=threshold,\n",
    ")"
   ]
  },
  {
   "cell_type": "code",
   "execution_count": 9,
   "metadata": {},
   "outputs": [],
   "source": [
    "dataset.run()"
   ]
  },
  {
   "attachments": {},
   "cell_type": "markdown",
   "metadata": {},
   "source": [
    "Now, every now and again there might be an extra audio file or metadata entry that will throw any preprocesser into a fit. But don't fret! This function will help you find and remove them. This can also sync mannual changes in either removing metadata entries or audio files."
   ]
  },
  {
   "cell_type": "code",
   "execution_count": 11,
   "metadata": {},
   "outputs": [
    {
     "name": "stdout",
     "output_type": "stream",
     "text": [
      "['DATA3_0105.wav', 'DATA3_0088.wav', 'DATA3_0036.wav']\n"
     ]
    }
   ],
   "source": [
    "import pandas as pd\n",
    "\n",
    "bad_files = []\n",
    "work_text_path = Path.cwd() / 'work' / 'text'\n",
    "dataset_dir = work_text_path / 'Dataset'\n",
    "\n",
    "# Iterating through .wav files, checking their size\n",
    "for file_path in (dataset_dir / 'wavs').iterdir():\n",
    "    if file_path.stat().st_size < 50000:\n",
    "        bad_files.append(file_path.name)\n",
    "\n",
    "print(bad_files)\n",
    "\n",
    "# Reading and cleaning dataset\n",
    "df = pd.read_csv(dataset_dir / 'metadata.csv', sep='|', on_bad_lines='skip')\n",
    "for index, row in df.iterrows():\n",
    "    if row[0] + '.wav' in bad_files:\n",
    "        df.drop(index, inplace=True)\n",
    "        (dataset_dir / 'wavs' / (row[0] + '.wav')).unlink()\n",
    "\n",
    "df.to_csv(dataset_dir / 'metadata.csv', sep='|', index=False)\n"
   ]
  },
  {
   "attachments": {},
   "cell_type": "markdown",
   "metadata": {},
   "source": [
    "## And done! Get curatin'!"
   ]
  }
 ],
 "metadata": {
  "kernelspec": {
   "display_name": "base",
   "language": "python",
   "name": "python3"
  },
  "language_info": {
   "codemirror_mode": {
    "name": "ipython",
    "version": 3
   },
   "file_extension": ".py",
   "mimetype": "text/x-python",
   "name": "python",
   "nbconvert_exporter": "python",
   "pygments_lexer": "ipython3",
   "version": "3.8.0"
  },
  "orig_nbformat": 4
 },
 "nbformat": 4,
 "nbformat_minor": 2
}
